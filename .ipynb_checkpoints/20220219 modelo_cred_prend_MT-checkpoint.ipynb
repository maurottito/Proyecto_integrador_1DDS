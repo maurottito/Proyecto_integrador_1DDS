{
 "cells": [
  {
   "cell_type": "markdown",
   "id": "265cdb0f",
   "metadata": {},
   "source": [
    "# TRABAJO INTEGRADOR - DATA SCIENCE - 2022\n",
    "## Tema: Créditos Prendarios\n",
    "\n",
    "**Los objetivos identificados del negocio son los siguientes:**\n",
    "\n",
    "- Entender el comportamiento de los clientes con el fin de que la entidad pueda generar ofertas diferenciadas, mediante una solución analítica.\n",
    "- Controlar la mora, a través de la adjudicación de la joya y el entendimiento de sus clientes, mediante una solución analítica.\n",
    "\n",
    "```\n",
    "\n",
    "```\n",
    "\n",
    "\n",
    "![Imagen](Portada.jpg)\n",
    "\n",
    "Link del word del trabajo integrador: [Trabajo integrador](https://1drv.ms/u/s!At02E1M_3GSWdJJzazWgNuB7BO4?e=DMR1b5)\n"
   ]
  },
  {
   "cell_type": "markdown",
   "id": "8d21dbe8",
   "metadata": {},
   "source": [
    "## 1. Explorando los datos de los créditos prendarios\n",
    "\n",
    "```\n",
    "```\n",
    "- *Vamos a instalar los paquetes de Python que se requeriran en el presente trabajo*\n"
   ]
  },
  {
   "cell_type": "code",
   "execution_count": 1,
   "id": "e761e2d8",
   "metadata": {},
   "outputs": [],
   "source": [
    "#pip install pyreadstat "
   ]
  },
  {
   "cell_type": "code",
   "execution_count": 2,
   "id": "2149d43e",
   "metadata": {},
   "outputs": [],
   "source": [
    "#pip install pyprojroot"
   ]
  },
  {
   "cell_type": "markdown",
   "id": "41f2be79",
   "metadata": {},
   "source": [
    "- *Instalaremos las librerias y se iniciara con el la exploración de los datos.*"
   ]
  },
  {
   "cell_type": "code",
   "execution_count": 3,
   "id": "4caea66e",
   "metadata": {},
   "outputs": [],
   "source": [
    "#importamos librerias\n",
    "import pyreadstat\n",
    "import pandas as pd\n",
    "from pyprojroot import here \n",
    "#from time import time, ctime\n",
    "import datetime\n",
    "#from janitor import clean_names\n",
    "import numpy as np\n",
    "import matplotlib.pyplot as plt\n",
    "import seaborn as sns\n",
    "%matplotlib inline"
   ]
  },
  {
   "cell_type": "code",
   "execution_count": 4,
   "id": "45383d1b",
   "metadata": {},
   "outputs": [],
   "source": [
    "#Cargando la data\n",
    "#data, meta = pyreadstat.read_sav(here('D:\\DATA SCIENCE\\SESIONES\\PROYECTO INTEGRADOR\\Proyecto_Integrador') / \"Input/Credito prendario.sav\")\n",
    "data, meta = pyreadstat.read_sav(here() / \"Input/Credito prendario.sav\")"
   ]
  },
  {
   "cell_type": "code",
   "execution_count": 5,
   "id": "5201b26c",
   "metadata": {},
   "outputs": [],
   "source": [
    "#revisando un caso aleatorio\n",
    "#data = data[data.CodCli == 1090300005568]"
   ]
  },
  {
   "cell_type": "code",
   "execution_count": 6,
   "id": "ca9ac52e",
   "metadata": {
    "scrolled": false
   },
   "outputs": [
    {
     "data": {
      "text/html": [
       "<div>\n",
       "<style scoped>\n",
       "    .dataframe tbody tr th:only-of-type {\n",
       "        vertical-align: middle;\n",
       "    }\n",
       "\n",
       "    .dataframe tbody tr th {\n",
       "        vertical-align: top;\n",
       "    }\n",
       "\n",
       "    .dataframe thead th {\n",
       "        text-align: right;\n",
       "    }\n",
       "</style>\n",
       "<table border=\"1\" class=\"dataframe\">\n",
       "  <thead>\n",
       "    <tr style=\"text-align: right;\">\n",
       "      <th></th>\n",
       "      <th>Periodo</th>\n",
       "      <th>CodCli</th>\n",
       "      <th>Edad</th>\n",
       "      <th>Sexo</th>\n",
       "      <th>EstaCiv</th>\n",
       "      <th>TipoViv</th>\n",
       "      <th>CantCred</th>\n",
       "      <th>Desem</th>\n",
       "      <th>SalVigSol</th>\n",
       "      <th>Monto_Tasación</th>\n",
       "      <th>DiasEfec</th>\n",
       "      <th>MaxDeuda</th>\n",
       "      <th>FlagAtra</th>\n",
       "      <th>MaxDiasAtra</th>\n",
       "      <th>MaxGramOro</th>\n",
       "      <th>FechAnalisis</th>\n",
       "      <th>AntiDias</th>\n",
       "      <th>FlagAdj</th>\n",
       "    </tr>\n",
       "  </thead>\n",
       "  <tbody>\n",
       "    <tr>\n",
       "      <th>0</th>\n",
       "      <td>200705.0</td>\n",
       "      <td>1.090300e+12</td>\n",
       "      <td>69.0</td>\n",
       "      <td>1.0</td>\n",
       "      <td>1.0</td>\n",
       "      <td>1.0</td>\n",
       "      <td>2.0</td>\n",
       "      <td>2613.74</td>\n",
       "      <td>2549.54</td>\n",
       "      <td>2736.90</td>\n",
       "      <td>551.0</td>\n",
       "      <td>2690.89</td>\n",
       "      <td>0.0</td>\n",
       "      <td>6.0</td>\n",
       "      <td>45.4166</td>\n",
       "      <td>1.341369e+10</td>\n",
       "      <td>220.0</td>\n",
       "      <td>0.0</td>\n",
       "    </tr>\n",
       "    <tr>\n",
       "      <th>1</th>\n",
       "      <td>200705.0</td>\n",
       "      <td>1.090300e+12</td>\n",
       "      <td>55.0</td>\n",
       "      <td>0.0</td>\n",
       "      <td>5.0</td>\n",
       "      <td>4.0</td>\n",
       "      <td>2.0</td>\n",
       "      <td>2782.07</td>\n",
       "      <td>1488.64</td>\n",
       "      <td>3051.00</td>\n",
       "      <td>1327.0</td>\n",
       "      <td>1790.80</td>\n",
       "      <td>0.0</td>\n",
       "      <td>33.0</td>\n",
       "      <td>50.6250</td>\n",
       "      <td>1.341619e+10</td>\n",
       "      <td>233.0</td>\n",
       "      <td>0.0</td>\n",
       "    </tr>\n",
       "    <tr>\n",
       "      <th>2</th>\n",
       "      <td>200705.0</td>\n",
       "      <td>1.090300e+12</td>\n",
       "      <td>55.0</td>\n",
       "      <td>0.0</td>\n",
       "      <td>1.0</td>\n",
       "      <td>4.0</td>\n",
       "      <td>1.0</td>\n",
       "      <td>1407.21</td>\n",
       "      <td>1205.06</td>\n",
       "      <td>1473.52</td>\n",
       "      <td>1645.0</td>\n",
       "      <td>4315.00</td>\n",
       "      <td>0.0</td>\n",
       "      <td>28.0</td>\n",
       "      <td>24.4500</td>\n",
       "      <td>1.342328e+10</td>\n",
       "      <td>327.0</td>\n",
       "      <td>0.0</td>\n",
       "    </tr>\n",
       "    <tr>\n",
       "      <th>3</th>\n",
       "      <td>200705.0</td>\n",
       "      <td>1.090300e+12</td>\n",
       "      <td>61.0</td>\n",
       "      <td>0.0</td>\n",
       "      <td>1.0</td>\n",
       "      <td>4.0</td>\n",
       "      <td>2.0</td>\n",
       "      <td>658.70</td>\n",
       "      <td>429.95</td>\n",
       "      <td>1095.28</td>\n",
       "      <td>424.0</td>\n",
       "      <td>399.62</td>\n",
       "      <td>1.0</td>\n",
       "      <td>28.0</td>\n",
       "      <td>12.4500</td>\n",
       "      <td>1.340729e+10</td>\n",
       "      <td>127.0</td>\n",
       "      <td>1.0</td>\n",
       "    </tr>\n",
       "    <tr>\n",
       "      <th>4</th>\n",
       "      <td>200705.0</td>\n",
       "      <td>1.090300e+12</td>\n",
       "      <td>59.0</td>\n",
       "      <td>0.0</td>\n",
       "      <td>5.0</td>\n",
       "      <td>4.0</td>\n",
       "      <td>2.0</td>\n",
       "      <td>2162.62</td>\n",
       "      <td>2148.78</td>\n",
       "      <td>2264.52</td>\n",
       "      <td>1213.0</td>\n",
       "      <td>1642.20</td>\n",
       "      <td>0.0</td>\n",
       "      <td>46.0</td>\n",
       "      <td>37.5750</td>\n",
       "      <td>1.342051e+10</td>\n",
       "      <td>275.0</td>\n",
       "      <td>0.0</td>\n",
       "    </tr>\n",
       "  </tbody>\n",
       "</table>\n",
       "</div>"
      ],
      "text/plain": [
       "    Periodo        CodCli  Edad  Sexo  EstaCiv  TipoViv  CantCred    Desem  \\\n",
       "0  200705.0  1.090300e+12  69.0   1.0      1.0      1.0       2.0  2613.74   \n",
       "1  200705.0  1.090300e+12  55.0   0.0      5.0      4.0       2.0  2782.07   \n",
       "2  200705.0  1.090300e+12  55.0   0.0      1.0      4.0       1.0  1407.21   \n",
       "3  200705.0  1.090300e+12  61.0   0.0      1.0      4.0       2.0   658.70   \n",
       "4  200705.0  1.090300e+12  59.0   0.0      5.0      4.0       2.0  2162.62   \n",
       "\n",
       "   SalVigSol  Monto_Tasación  DiasEfec  MaxDeuda  FlagAtra  MaxDiasAtra  \\\n",
       "0    2549.54         2736.90     551.0   2690.89       0.0          6.0   \n",
       "1    1488.64         3051.00    1327.0   1790.80       0.0         33.0   \n",
       "2    1205.06         1473.52    1645.0   4315.00       0.0         28.0   \n",
       "3     429.95         1095.28     424.0    399.62       1.0         28.0   \n",
       "4    2148.78         2264.52    1213.0   1642.20       0.0         46.0   \n",
       "\n",
       "   MaxGramOro  FechAnalisis  AntiDias  FlagAdj  \n",
       "0     45.4166  1.341369e+10     220.0      0.0  \n",
       "1     50.6250  1.341619e+10     233.0      0.0  \n",
       "2     24.4500  1.342328e+10     327.0      0.0  \n",
       "3     12.4500  1.340729e+10     127.0      1.0  \n",
       "4     37.5750  1.342051e+10     275.0      0.0  "
      ]
     },
     "execution_count": 6,
     "metadata": {},
     "output_type": "execute_result"
    }
   ],
   "source": [
    "#Mirando las variables y algunos datos de la base\n",
    "data.head()"
   ]
  },
  {
   "cell_type": "code",
   "execution_count": 7,
   "id": "dac2ae67",
   "metadata": {
    "scrolled": true
   },
   "outputs": [
    {
     "name": "stdout",
     "output_type": "stream",
     "text": [
      "<class 'pandas.core.frame.DataFrame'>\n",
      "RangeIndex: 961984 entries, 0 to 961983\n",
      "Data columns (total 18 columns):\n",
      " #   Column          Non-Null Count   Dtype  \n",
      "---  ------          --------------   -----  \n",
      " 0   Periodo         961984 non-null  float64\n",
      " 1   CodCli          961984 non-null  float64\n",
      " 2   Edad            961984 non-null  float64\n",
      " 3   Sexo            961984 non-null  float64\n",
      " 4   EstaCiv         961984 non-null  float64\n",
      " 5   TipoViv         961984 non-null  float64\n",
      " 6   CantCred        961984 non-null  float64\n",
      " 7   Desem           961984 non-null  float64\n",
      " 8   SalVigSol       961984 non-null  float64\n",
      " 9   Monto_Tasación  961984 non-null  float64\n",
      " 10  DiasEfec        961984 non-null  float64\n",
      " 11  MaxDeuda        961984 non-null  float64\n",
      " 12  FlagAtra        961984 non-null  float64\n",
      " 13  MaxDiasAtra     961984 non-null  float64\n",
      " 14  MaxGramOro      961984 non-null  float64\n",
      " 15  FechAnalisis    961984 non-null  float64\n",
      " 16  AntiDias        961984 non-null  float64\n",
      " 17  FlagAdj         961984 non-null  float64\n",
      "dtypes: float64(18)\n",
      "memory usage: 132.1 MB\n"
     ]
    }
   ],
   "source": [
    "#Información de las variables, para ver si existen nulos\n",
    "data.info()"
   ]
  },
  {
   "cell_type": "code",
   "execution_count": 8,
   "id": "628b2d5e",
   "metadata": {},
   "outputs": [],
   "source": [
    "# No hay no nulos"
   ]
  },
  {
   "cell_type": "code",
   "execution_count": 9,
   "id": "b1c96cb5",
   "metadata": {},
   "outputs": [
    {
     "data": {
      "text/plain": [
       "'\\nPeriodo\\tPeriodo\\nCodCli\\tCódigo de Cliente\\nEdad\\tEdad\\nSexo\\tSexo\\nEstaCiv\\tEstado civil\\nTipoViv\\tTipo de vivienda\\nCantCred\\tCantidad de créditos\\nDesem\\tDesembolso\\nSalVigSol\\tSaldo vigente en soles\\nMonto_Tasación\\tMonto de tasación\\nDiasEfec\\tDias efectivos\\nMaxDeuda\\tMáxima deuda\\nFlagAtra\\tFlag de dias de atraso\\nMaxDiasAtra\\tMaximo dias de atraso\\nMaxGramOro\\tMaximo gramo en oro\\nFechAnalisis\\tFecha de analisis\\nAntiDias\\tAntiguedad en dias\\nFlagAdj\\tFalg adjudicación'"
      ]
     },
     "execution_count": 9,
     "metadata": {},
     "output_type": "execute_result"
    }
   ],
   "source": [
    "#Diccionario\n",
    "'''\n",
    "Periodo\tPeriodo\n",
    "CodCli\tCódigo de Cliente\n",
    "Edad\tEdad\n",
    "Sexo\tSexo\n",
    "EstaCiv\tEstado civil\n",
    "TipoViv\tTipo de vivienda\n",
    "CantCred\tCantidad de créditos\n",
    "Desem\tDesembolso\n",
    "SalVigSol\tSaldo vigente en soles\n",
    "Monto_Tasación\tMonto de tasación\n",
    "DiasEfec\tDias efectivos\n",
    "MaxDeuda\tMáxima deuda\n",
    "FlagAtra\tFlag de dias de atraso\n",
    "MaxDiasAtra\tMaximo dias de atraso\n",
    "MaxGramOro\tMaximo gramo en oro\n",
    "FechAnalisis\tFecha de analisis\n",
    "AntiDias\tAntiguedad en dias\n",
    "FlagAdj\tFalg adjudicación'''"
   ]
  },
  {
   "cell_type": "code",
   "execution_count": 10,
   "id": "b63e2a27",
   "metadata": {},
   "outputs": [
    {
     "name": "stdout",
     "output_type": "stream",
     "text": [
      "['Periodo', 'CodCli', 'Edad', 'Sexo', 'EstaCiv', 'TipoViv', 'CantCred', 'Desem', 'SalVigSol', 'Monto_Tasación', 'DiasEfec', 'MaxDeuda', 'FlagAtra', 'MaxDiasAtra', 'MaxGramOro', 'FechAnalisis', 'AntiDias', 'FlagAdj']\n"
     ]
    }
   ],
   "source": [
    "# Obtener variables númericas\n",
    "num_cols = [i for i in data.columns \n",
    "            if ((data[i].dtype == float) | (data[i].dtype == np.int64))]\n",
    "\n",
    "print(num_cols)"
   ]
  },
  {
   "cell_type": "code",
   "execution_count": 11,
   "id": "1c4047b5",
   "metadata": {},
   "outputs": [
    {
     "data": {
      "image/png": "[encoded data removed]",
      "text/plain": [
       "<Figure size 3600x360 with 18 Axes>"
      ]
     },
     "metadata": {
      "needs_background": "light"
     },
     "output_type": "display_data"
    }
   ],
   "source": [
    "plt.rcParams['figure.figsize'] = [50,5] ## ajustar la grafica al tamaño 10,4\n",
    "data[num_cols].hist(layout = (1,18))\n",
    "plt.show()\n",
    "plt.rcParams['figure.figsize'] = [6.4, 4.8] "
   ]
  },
  {
   "cell_type": "code",
   "execution_count": 12,
   "id": "92fc933f",
   "metadata": {},
   "outputs": [
    {
     "data": {
      "text/html": [
       "<div>\n",
       "<style scoped>\n",
       "    .dataframe tbody tr th:only-of-type {\n",
       "        vertical-align: middle;\n",
       "    }\n",
       "\n",
       "    .dataframe tbody tr th {\n",
       "        vertical-align: top;\n",
       "    }\n",
       "\n",
       "    .dataframe thead th {\n",
       "        text-align: right;\n",
       "    }\n",
       "</style>\n",
       "<table border=\"1\" class=\"dataframe\">\n",
       "  <thead>\n",
       "    <tr style=\"text-align: right;\">\n",
       "      <th></th>\n",
       "      <th>count</th>\n",
       "      <th>mean</th>\n",
       "      <th>std</th>\n",
       "      <th>min</th>\n",
       "      <th>25%</th>\n",
       "      <th>50%</th>\n",
       "      <th>75%</th>\n",
       "      <th>max</th>\n",
       "    </tr>\n",
       "  </thead>\n",
       "  <tbody>\n",
       "    <tr>\n",
       "      <th>Periodo</th>\n",
       "      <td>961984.00</td>\n",
       "      <td>201286.78</td>\n",
       "      <td>358.53</td>\n",
       "      <td>200705.00</td>\n",
       "      <td>201003.00</td>\n",
       "      <td>201302.00</td>\n",
       "      <td>201604.00</td>\n",
       "      <td>201912.00</td>\n",
       "    </tr>\n",
       "    <tr>\n",
       "      <th>CodCli</th>\n",
       "      <td>961984.00</td>\n",
       "      <td>1090327278735.55</td>\n",
       "      <td>494787275.28</td>\n",
       "      <td>1090100000043.00</td>\n",
       "      <td>1090100340197.00</td>\n",
       "      <td>1090100829692.00</td>\n",
       "      <td>1090400019861.00</td>\n",
       "      <td>1094200000159.00</td>\n",
       "    </tr>\n",
       "    <tr>\n",
       "      <th>Edad</th>\n",
       "      <td>961984.00</td>\n",
       "      <td>49.32</td>\n",
       "      <td>14.01</td>\n",
       "      <td>4.00</td>\n",
       "      <td>38.00</td>\n",
       "      <td>49.00</td>\n",
       "      <td>59.00</td>\n",
       "      <td>121.00</td>\n",
       "    </tr>\n",
       "    <tr>\n",
       "      <th>Sexo</th>\n",
       "      <td>961984.00</td>\n",
       "      <td>0.28</td>\n",
       "      <td>0.45</td>\n",
       "      <td>0.00</td>\n",
       "      <td>0.00</td>\n",
       "      <td>0.00</td>\n",
       "      <td>1.00</td>\n",
       "      <td>1.00</td>\n",
       "    </tr>\n",
       "    <tr>\n",
       "      <th>EstaCiv</th>\n",
       "      <td>961984.00</td>\n",
       "      <td>3.64</td>\n",
       "      <td>1.87</td>\n",
       "      <td>1.00</td>\n",
       "      <td>1.00</td>\n",
       "      <td>5.00</td>\n",
       "      <td>5.00</td>\n",
       "      <td>6.00</td>\n",
       "    </tr>\n",
       "    <tr>\n",
       "      <th>TipoViv</th>\n",
       "      <td>961984.00</td>\n",
       "      <td>3.37</td>\n",
       "      <td>0.70</td>\n",
       "      <td>1.00</td>\n",
       "      <td>3.00</td>\n",
       "      <td>3.00</td>\n",
       "      <td>4.00</td>\n",
       "      <td>4.00</td>\n",
       "    </tr>\n",
       "    <tr>\n",
       "      <th>CantCred</th>\n",
       "      <td>961984.00</td>\n",
       "      <td>1.46</td>\n",
       "      <td>1.09</td>\n",
       "      <td>1.00</td>\n",
       "      <td>1.00</td>\n",
       "      <td>1.00</td>\n",
       "      <td>2.00</td>\n",
       "      <td>56.00</td>\n",
       "    </tr>\n",
       "    <tr>\n",
       "      <th>Desem</th>\n",
       "      <td>961984.00</td>\n",
       "      <td>1321.89</td>\n",
       "      <td>2253.26</td>\n",
       "      <td>0.00</td>\n",
       "      <td>402.52</td>\n",
       "      <td>765.00</td>\n",
       "      <td>1496.00</td>\n",
       "      <td>455218.04</td>\n",
       "    </tr>\n",
       "    <tr>\n",
       "      <th>SalVigSol</th>\n",
       "      <td>961984.00</td>\n",
       "      <td>1141.98</td>\n",
       "      <td>2106.71</td>\n",
       "      <td>0.00</td>\n",
       "      <td>324.41</td>\n",
       "      <td>630.00</td>\n",
       "      <td>1275.98</td>\n",
       "      <td>455218.04</td>\n",
       "    </tr>\n",
       "    <tr>\n",
       "      <th>Monto_Tasación</th>\n",
       "      <td>961984.00</td>\n",
       "      <td>1534.60</td>\n",
       "      <td>2538.67</td>\n",
       "      <td>48.60</td>\n",
       "      <td>475.20</td>\n",
       "      <td>897.60</td>\n",
       "      <td>1740.00</td>\n",
       "      <td>535552.80</td>\n",
       "    </tr>\n",
       "    <tr>\n",
       "      <th>DiasEfec</th>\n",
       "      <td>961984.00</td>\n",
       "      <td>1410.24</td>\n",
       "      <td>1080.44</td>\n",
       "      <td>1.00</td>\n",
       "      <td>534.00</td>\n",
       "      <td>1146.00</td>\n",
       "      <td>2061.00</td>\n",
       "      <td>4834.00</td>\n",
       "    </tr>\n",
       "    <tr>\n",
       "      <th>MaxDeuda</th>\n",
       "      <td>961984.00</td>\n",
       "      <td>1796.33</td>\n",
       "      <td>2266.43</td>\n",
       "      <td>50.00</td>\n",
       "      <td>620.00</td>\n",
       "      <td>1150.05</td>\n",
       "      <td>2101.10</td>\n",
       "      <td>60120.50</td>\n",
       "    </tr>\n",
       "    <tr>\n",
       "      <th>FlagAtra</th>\n",
       "      <td>961984.00</td>\n",
       "      <td>0.18</td>\n",
       "      <td>0.39</td>\n",
       "      <td>0.00</td>\n",
       "      <td>0.00</td>\n",
       "      <td>0.00</td>\n",
       "      <td>0.00</td>\n",
       "      <td>1.00</td>\n",
       "    </tr>\n",
       "    <tr>\n",
       "      <th>MaxDiasAtra</th>\n",
       "      <td>961984.00</td>\n",
       "      <td>22.79</td>\n",
       "      <td>21.84</td>\n",
       "      <td>0.00</td>\n",
       "      <td>9.00</td>\n",
       "      <td>20.00</td>\n",
       "      <td>28.00</td>\n",
       "      <td>1050.00</td>\n",
       "    </tr>\n",
       "    <tr>\n",
       "      <th>MaxGramOro</th>\n",
       "      <td>961984.00</td>\n",
       "      <td>12.08</td>\n",
       "      <td>19.07</td>\n",
       "      <td>0.45</td>\n",
       "      <td>3.86</td>\n",
       "      <td>7.20</td>\n",
       "      <td>13.72</td>\n",
       "      <td>3347.21</td>\n",
       "    </tr>\n",
       "    <tr>\n",
       "      <th>FechAnalisis</th>\n",
       "      <td>961984.00</td>\n",
       "      <td>13630181838.23</td>\n",
       "      <td>123278634.17</td>\n",
       "      <td>13400035200.00</td>\n",
       "      <td>13523068800.00</td>\n",
       "      <td>13631155200.00</td>\n",
       "      <td>13747622400.00</td>\n",
       "      <td>13800326400.00</td>\n",
       "    </tr>\n",
       "    <tr>\n",
       "      <th>AntiDias</th>\n",
       "      <td>961984.00</td>\n",
       "      <td>730.86</td>\n",
       "      <td>953.44</td>\n",
       "      <td>0.00</td>\n",
       "      <td>200.00</td>\n",
       "      <td>371.00</td>\n",
       "      <td>757.00</td>\n",
       "      <td>4991.00</td>\n",
       "    </tr>\n",
       "    <tr>\n",
       "      <th>FlagAdj</th>\n",
       "      <td>961984.00</td>\n",
       "      <td>0.12</td>\n",
       "      <td>0.33</td>\n",
       "      <td>0.00</td>\n",
       "      <td>0.00</td>\n",
       "      <td>0.00</td>\n",
       "      <td>0.00</td>\n",
       "      <td>1.00</td>\n",
       "    </tr>\n",
       "  </tbody>\n",
       "</table>\n",
       "</div>"
      ],
      "text/plain": [
       "                    count              mean           std               min  \\\n",
       "Periodo         961984.00         201286.78        358.53         200705.00   \n",
       "CodCli          961984.00  1090327278735.55  494787275.28  1090100000043.00   \n",
       "Edad            961984.00             49.32         14.01              4.00   \n",
       "Sexo            961984.00              0.28          0.45              0.00   \n",
       "EstaCiv         961984.00              3.64          1.87              1.00   \n",
       "TipoViv         961984.00              3.37          0.70              1.00   \n",
       "CantCred        961984.00              1.46          1.09              1.00   \n",
       "Desem           961984.00           1321.89       2253.26              0.00   \n",
       "SalVigSol       961984.00           1141.98       2106.71              0.00   \n",
       "Monto_Tasación  961984.00           1534.60       2538.67             48.60   \n",
       "DiasEfec        961984.00           1410.24       1080.44              1.00   \n",
       "MaxDeuda        961984.00           1796.33       2266.43             50.00   \n",
       "FlagAtra        961984.00              0.18          0.39              0.00   \n",
       "MaxDiasAtra     961984.00             22.79         21.84              0.00   \n",
       "MaxGramOro      961984.00             12.08         19.07              0.45   \n",
       "FechAnalisis    961984.00    13630181838.23  123278634.17    13400035200.00   \n",
       "AntiDias        961984.00            730.86        953.44              0.00   \n",
       "FlagAdj         961984.00              0.12          0.33              0.00   \n",
       "\n",
       "                             25%               50%               75%  \\\n",
       "Periodo                201003.00         201302.00         201604.00   \n",
       "CodCli          1090100340197.00  1090100829692.00  1090400019861.00   \n",
       "Edad                       38.00             49.00             59.00   \n",
       "Sexo                        0.00              0.00              1.00   \n",
       "EstaCiv                     1.00              5.00              5.00   \n",
       "TipoViv                     3.00              3.00              4.00   \n",
       "CantCred                    1.00              1.00              2.00   \n",
       "Desem                     402.52            765.00           1496.00   \n",
       "SalVigSol                 324.41            630.00           1275.98   \n",
       "Monto_Tasación            475.20            897.60           1740.00   \n",
       "DiasEfec                  534.00           1146.00           2061.00   \n",
       "MaxDeuda                  620.00           1150.05           2101.10   \n",
       "FlagAtra                    0.00              0.00              0.00   \n",
       "MaxDiasAtra                 9.00             20.00             28.00   \n",
       "MaxGramOro                  3.86              7.20             13.72   \n",
       "FechAnalisis      13523068800.00    13631155200.00    13747622400.00   \n",
       "AntiDias                  200.00            371.00            757.00   \n",
       "FlagAdj                     0.00              0.00              0.00   \n",
       "\n",
       "                             max  \n",
       "Periodo                201912.00  \n",
       "CodCli          1094200000159.00  \n",
       "Edad                      121.00  \n",
       "Sexo                        1.00  \n",
       "EstaCiv                     6.00  \n",
       "TipoViv                     4.00  \n",
       "CantCred                   56.00  \n",
       "Desem                  455218.04  \n",
       "SalVigSol              455218.04  \n",
       "Monto_Tasación         535552.80  \n",
       "DiasEfec                 4834.00  \n",
       "MaxDeuda                60120.50  \n",
       "FlagAtra                    1.00  \n",
       "MaxDiasAtra              1050.00  \n",
       "MaxGramOro               3347.21  \n",
       "FechAnalisis      13800326400.00  \n",
       "AntiDias                 4991.00  \n",
       "FlagAdj                     1.00  "
      ]
     },
     "execution_count": 12,
     "metadata": {},
     "output_type": "execute_result"
    }
   ],
   "source": [
    "data.describe().T.apply(lambda s: s.apply('{0:.2f}'.format))  ## describe las variables"
   ]
  },
  {
   "cell_type": "code",
   "execution_count": 13,
   "id": "9a2d0b43",
   "metadata": {},
   "outputs": [],
   "source": [
    "#Para agregar porcentajes\n",
    "\n",
    "def with_hue(ax, feature, Number_of_categories, hue_categories):\n",
    "    a = [p.get_height() for p in ax.patches]\n",
    "    patch = [p for p in ax.patches]\n",
    "    for i in range(Number_of_categories):\n",
    "        total = feature.value_counts().values[i]\n",
    "        for j in range(hue_categories):\n",
    "            percentage = '{:.1f}%'.format(100 * a[(j*Number_of_categories + i)]/total)\n",
    "            x = patch[(j*Number_of_categories + i)].get_x() + patch[(j*Number_of_categories + i)].get_width() / 2 - 0.15\n",
    "            y = patch[(j*Number_of_categories + i)].get_y() + patch[(j*Number_of_categories + i)].get_height() \n",
    "            ax.annotate(percentage, (x, y), size = 12)\n",
    "\n",
    "def without_hue(ax, feature):\n",
    "    total = len(feature)\n",
    "    for p in ax.patches:\n",
    "        percentage = '{:.1f}%'.format(100 * p.get_height()/total)\n",
    "        x = p.get_x() + p.get_width() / 2 - 0.05\n",
    "        y = p.get_y() + p.get_height()\n",
    "        ax.annotate(percentage, (x, y), size = 12)"
   ]
  },
  {
   "cell_type": "code",
   "execution_count": 14,
   "id": "97ae82ed",
   "metadata": {},
   "outputs": [
    {
     "data": {
      "text/plain": [
       "'\\n1: La caja se adjudica la joya (Se queda con el bien del cliente)  -->  87.8%\\n0: La caja no se adjudica la joya (Devuelve el bien al cliente)  -->    12.2%\\n\\n'"
      ]
     },
     "execution_count": 14,
     "metadata": {},
     "output_type": "execute_result"
    },
    {
     "data": {
      "image/png": "[encoded data removed]",
      "text/plain": [
       "<Figure size 460.8x345.6 with 1 Axes>"
      ]
     },
     "metadata": {},
     "output_type": "display_data"
    }
   ],
   "source": [
    "# Analizando la variable que representa el Tarjet del negocio (FlagAdj)\n",
    "\n",
    "sns.set_style('whitegrid')\n",
    "ax=sns.countplot(x='FlagAdj',data=data,palette='RdBu_r')\n",
    "\n",
    "plt.xticks(size=12)\n",
    "\n",
    "without_hue(ax,data.FlagAdj)\n",
    "\n",
    "'''\n",
    "1: La caja se adjudica la joya (Se queda con el bien del cliente)  -->  87.8%\n",
    "0: La caja no se adjudica la joya (Devuelve el bien al cliente)  -->    12.2%\n",
    "\n",
    "'''\n"
   ]
  },
  {
   "cell_type": "code",
   "execution_count": 15,
   "id": "d41025d1",
   "metadata": {},
   "outputs": [
    {
     "name": "stderr",
     "output_type": "stream",
     "text": [
      "C:\\Users\\Mauro\\anaconda3\\lib\\site-packages\\seaborn\\distributions.py:2557: FutureWarning: `distplot` is a deprecated function and will be removed in a future version. Please adapt your code to use either `displot` (a figure-level function with similar flexibility) or `histplot` (an axes-level function for histograms).\n",
      "  warnings.warn(msg, FutureWarning)\n"
     ]
    },
    {
     "data": {
      "text/plain": [
       "<AxesSubplot:xlabel='Edad'>"
      ]
     },
     "execution_count": 15,
     "metadata": {},
     "output_type": "execute_result"
    },
    {
     "data": {
      "image/png": "[encoded data removed]",
      "text/plain": [
       "<Figure size 460.8x345.6 with 1 Axes>"
      ]
     },
     "metadata": {},
     "output_type": "display_data"
    }
   ],
   "source": [
    "sns.distplot(data['Edad'].dropna(),kde=False,color='darkred',bins=80)"
   ]
  },
  {
   "cell_type": "code",
   "execution_count": 16,
   "id": "29c92634",
   "metadata": {},
   "outputs": [
    {
     "data": {
      "text/plain": [
       "<AxesSubplot:xlabel='Edad'>"
      ]
     },
     "execution_count": 16,
     "metadata": {},
     "output_type": "execute_result"
    },
    {
     "data": {
      "image/png": "[encoded data removed]",
      "text/plain": [
       "<Figure size 460.8x345.6 with 1 Axes>"
      ]
     },
     "metadata": {},
     "output_type": "display_data"
    }
   ],
   "source": [
    "sns.boxplot(x=\"Edad\",data=data,saturation=1.2,width=0.8,fliersize=5,palette=\"Set1\")"
   ]
  },
  {
   "cell_type": "code",
   "execution_count": 17,
   "id": "04aede9b",
   "metadata": {},
   "outputs": [
    {
     "data": {
      "text/plain": [
       "'\\n#EstaCiv 1:CASADO, 2: CONVIVIENTE, 3: DIVORCIADO, 4: SEPARADO, 5: SOLTERO, 6: VIUDO\\n'"
      ]
     },
     "execution_count": 17,
     "metadata": {},
     "output_type": "execute_result"
    },
    {
     "data": {
      "image/png": "[encoded data removed]",
      "text/plain": [
       "<Figure size 460.8x345.6 with 1 Axes>"
      ]
     },
     "metadata": {},
     "output_type": "display_data"
    }
   ],
   "source": [
    "# EstaCiv 1:CASADO, 2: CONVIVIENTE, 3: DIVORCIADO, 4: SEPARADO, 5: SOLTERO, 6: VIUDO\n",
    "sns.set_style('whitegrid')\n",
    "sns.countplot(x='EstaCiv',data=data,palette='RdBu_r')\n",
    "\n",
    "'''\n",
    "#EstaCiv 1:CASADO, 2: CONVIVIENTE, 3: DIVORCIADO, 4: SEPARADO, 5: SOLTERO, 6: VIUDO\n",
    "'''\n"
   ]
  },
  {
   "cell_type": "code",
   "execution_count": 18,
   "id": "401c1dfb",
   "metadata": {},
   "outputs": [
    {
     "data": {
      "text/plain": [
       "'\\n#EstaCiv 1:CASADO, 2: CONVIVIENTE, 3: DIVORCIADO, 4: SEPARADO, 5: SOLTERO, 6: VIUDO\\n'"
      ]
     },
     "execution_count": 18,
     "metadata": {},
     "output_type": "execute_result"
    },
    {
     "data": {
      "image/png": "[encoded data removed]",
      "text/plain": [
       "<Figure size 460.8x345.6 with 1 Axes>"
      ]
     },
     "metadata": {},
     "output_type": "display_data"
    }
   ],
   "source": [
    "# Analisis de Estado civil vs Adjudicación de la Joya\n",
    "\n",
    "sns.set_style('whitegrid')\n",
    "sns.countplot(x='EstaCiv',hue='FlagAdj',data=data,palette='rainbow')\n",
    "\n",
    "\n",
    "'''\n",
    "#EstaCiv 1:CASADO, 2: CONVIVIENTE, 3: DIVORCIADO, 4: SEPARADO, 5: SOLTERO, 6: VIUDO\n",
    "'''\n"
   ]
  },
  {
   "cell_type": "code",
   "execution_count": 19,
   "id": "dbe5189c",
   "metadata": {},
   "outputs": [
    {
     "data": {
      "text/plain": [
       "'\\nTipoViv 1:ALQUILADA, 2: ALQUILER VENTA, 3: DE FAMILIA, 4: PROPIA\\n'"
      ]
     },
     "execution_count": 19,
     "metadata": {},
     "output_type": "execute_result"
    },
    {
     "data": {
      "image/png": "[encoded data removed]",
      "text/plain": [
       "<Figure size 460.8x345.6 with 1 Axes>"
      ]
     },
     "metadata": {},
     "output_type": "display_data"
    }
   ],
   "source": [
    "# TipoViv 1:ALQUILADA, 2: ALQUILER VENTA, 3: DE FAMILIA, 4: PROPIA\n",
    "sns.set_style('whitegrid')\n",
    "sns.countplot(x='TipoViv',data=data,palette='RdBu_r')\n",
    "\n",
    "'''\n",
    "TipoViv 1:ALQUILADA, 2: ALQUILER VENTA, 3: DE FAMILIA, 4: PROPIA\n",
    "'''\n"
   ]
  },
  {
   "cell_type": "code",
   "execution_count": 20,
   "id": "03ebd777",
   "metadata": {},
   "outputs": [
    {
     "data": {
      "text/plain": [
       "'\\nTipoViv 1:ALQUILADA, 2: ALQUILER VENTA, 3: DE FAMILIA, 4: PROPIA\\n'"
      ]
     },
     "execution_count": 20,
     "metadata": {},
     "output_type": "execute_result"
    },
    {
     "data": {
      "image/png": "[encoded data removed]",
      "text/plain": [
       "<Figure size 460.8x345.6 with 1 Axes>"
      ]
     },
     "metadata": {},
     "output_type": "display_data"
    }
   ],
   "source": [
    "# Analisis de tipo de vivienda vs Adjudicación de la Joya\n",
    "\n",
    "sns.set_style('whitegrid')\n",
    "ax=sns.countplot(x='TipoViv',hue='FlagAdj',data=data,palette='rainbow')\n",
    "\n",
    "plt.xticks(size=12)\n",
    "\n",
    "'''\n",
    "TipoViv 1:ALQUILADA, 2: ALQUILER VENTA, 3: DE FAMILIA, 4: PROPIA\n",
    "'''\n"
   ]
  },
  {
   "cell_type": "code",
   "execution_count": 21,
   "id": "0d2dbca4",
   "metadata": {},
   "outputs": [
    {
     "data": {
      "text/plain": [
       "<AxesSubplot:xlabel='Sexo', ylabel='count'>"
      ]
     },
     "execution_count": 21,
     "metadata": {},
     "output_type": "execute_result"
    },
    {
     "data": {
      "image/png": "[encoded data removed]",
      "text/plain": [
       "<Figure size 460.8x345.6 with 1 Axes>"
      ]
     },
     "metadata": {},
     "output_type": "display_data"
    }
   ],
   "source": [
    "# Sexo 0: Mujer, 1: Hombre\n",
    "sns.set_style('whitegrid')\n",
    "sns.countplot(x='Sexo',data=data,palette='RdBu_r')"
   ]
  },
  {
   "cell_type": "code",
   "execution_count": 22,
   "id": "c5ee87bf",
   "metadata": {},
   "outputs": [
    {
     "data": {
      "image/png": "[encoded data removed]",
      "text/plain": [
       "<Figure size 460.8x345.6 with 1 Axes>"
      ]
     },
     "metadata": {},
     "output_type": "display_data"
    }
   ],
   "source": [
    "# Analisis Sexo vs Adjudicación de la Joya\n",
    "\n",
    "sns.set_style('whitegrid')\n",
    "ax= sns.countplot(x='Sexo',hue='FlagAdj',data=data,palette='rainbow')\n",
    "\n",
    "'''\n",
    "1: Hombre\n",
    "0: Mujer\n",
    "'''\n",
    "\n",
    "plt.xticks(size=12)\n",
    "\n",
    "with_hue(ax,data.Sexo,2,2)"
   ]
  },
  {
   "cell_type": "code",
   "execution_count": 23,
   "id": "203b4678",
   "metadata": {},
   "outputs": [],
   "source": [
    "# Analizaremos el ratio de desembolso:\n",
    "\n",
    "# No se debería de desembolsar mas del monto de tasación, es una regla de la Caja de creditos prendarios.\n",
    "\n",
    "data['ratio_desem_tasa'] = data['Desem']/data['Monto_Tasación']\n",
    "\n",
    "# data.describe().T.apply(lambda s: s.apply('{0:.2f}'.format))  ## describe las variables"
   ]
  },
  {
   "cell_type": "code",
   "execution_count": 24,
   "id": "6610bcc3",
   "metadata": {},
   "outputs": [
    {
     "name": "stderr",
     "output_type": "stream",
     "text": [
      "C:\\Users\\Mauro\\anaconda3\\lib\\site-packages\\seaborn\\distributions.py:2557: FutureWarning: `distplot` is a deprecated function and will be removed in a future version. Please adapt your code to use either `displot` (a figure-level function with similar flexibility) or `histplot` (an axes-level function for histograms).\n",
      "  warnings.warn(msg, FutureWarning)\n"
     ]
    },
    {
     "data": {
      "text/plain": [
       "<AxesSubplot:xlabel='ratio_desem_tasa'>"
      ]
     },
     "execution_count": 24,
     "metadata": {},
     "output_type": "execute_result"
    },
    {
     "data": {
      "image/png": "[encoded data removed]",
      "text/plain": [
       "<Figure size 460.8x345.6 with 1 Axes>"
      ]
     },
     "metadata": {},
     "output_type": "display_data"
    }
   ],
   "source": [
    "sns.distplot(data['ratio_desem_tasa'].dropna(),kde=False,color='darkred',bins=15)"
   ]
  },
  {
   "cell_type": "markdown",
   "id": "0a222077",
   "metadata": {},
   "source": [
    "Luego de analizar la data graficamente y con algunos indicadores, se evidencia incosistencia en los datos y datos atipos."
   ]
  },
  {
   "cell_type": "markdown",
   "id": "13891d0c",
   "metadata": {},
   "source": [
    "## 2. Transformando los datos\n",
    "\n"
   ]
  },
  {
   "cell_type": "markdown",
   "id": "7b1d345e",
   "metadata": {},
   "source": [
    "- *De la visulizaciín grafica y la revisión de las varaibles, se ha identificado datos atipicos den la base, por lo que se procedera a eliminarlos.*\n",
    "\n",
    "    Las etiqueta de las variables son las siguientes:\n",
    "\n",
    "    - Sexo 0: Mujer, 1: Hombre\n",
    "    - EstaCiv 1:CASADO, 2: CONVIVIENTE, 3: DIVORCIADO, 4: SEPARADO, 5: SOLTERO, 6: VIUDO\n",
    "    - TipoViv 1:ALQUILADA, 2: ALQUILER VENTA, 3: DE FAMILIA, 4: PROPIA\n",
    "    - FlagAdj 0: Pagó a tiempo y la caja no se adjudico el bien prendario, 1: La caja de adjudicó el bien prendario\n"
   ]
  },
  {
   "cell_type": "code",
   "execution_count": 25,
   "id": "9b9bc0b0",
   "metadata": {},
   "outputs": [],
   "source": [
    "#Eliminar los casos con Edad menor a 18 años:\n",
    "data = data[data.Edad >= 18]"
   ]
  },
  {
   "cell_type": "code",
   "execution_count": 26,
   "id": "ab9fdb6c",
   "metadata": {},
   "outputs": [],
   "source": [
    "#Eliminar los casos con desembolso=0:\n",
    "data = data[data.Desem > 0]"
   ]
  },
  {
   "cell_type": "code",
   "execution_count": 27,
   "id": "fa1aa9c4",
   "metadata": {},
   "outputs": [],
   "source": [
    "#Estableciendo un umbral al ratio de desembolso y tasación, en clase el profesor\n",
    "#Chincaro nos indicó 0.99 para no eliminar mucha información\n",
    "#data['ratio_desem_tasa'] = data['Desem']/data['Monto_Tasación']\n",
    "data = data[data.ratio_desem_tasa <= 0.99]"
   ]
  },
  {
   "cell_type": "code",
   "execution_count": 28,
   "id": "6b539c0f",
   "metadata": {},
   "outputs": [],
   "source": [
    "#Editando variables de tiempo\n",
    "data['t_Periodo'] = pd.to_datetime(data['Periodo'], format='%Y%m')"
   ]
  },
  {
   "cell_type": "code",
   "execution_count": 29,
   "id": "45cdc9b4",
   "metadata": {},
   "outputs": [],
   "source": [
    "#Eliminando variables de no interés\n",
    "del data['ratio_desem_tasa'],data['FlagAtra'],data['Periodo']\n",
    "\n",
    "#data['t_Periodo'], data['CodCli'], data['FechAnalisis']"
   ]
  },
  {
   "cell_type": "code",
   "execution_count": 30,
   "id": "40f170ce",
   "metadata": {},
   "outputs": [
    {
     "data": {
      "text/html": [
       "<div>\n",
       "<style scoped>\n",
       "    .dataframe tbody tr th:only-of-type {\n",
       "        vertical-align: middle;\n",
       "    }\n",
       "\n",
       "    .dataframe tbody tr th {\n",
       "        vertical-align: top;\n",
       "    }\n",
       "\n",
       "    .dataframe thead th {\n",
       "        text-align: right;\n",
       "    }\n",
       "</style>\n",
       "<table border=\"1\" class=\"dataframe\">\n",
       "  <thead>\n",
       "    <tr style=\"text-align: right;\">\n",
       "      <th></th>\n",
       "      <th>count</th>\n",
       "      <th>mean</th>\n",
       "      <th>std</th>\n",
       "      <th>min</th>\n",
       "      <th>25%</th>\n",
       "      <th>50%</th>\n",
       "      <th>75%</th>\n",
       "      <th>max</th>\n",
       "    </tr>\n",
       "  </thead>\n",
       "  <tbody>\n",
       "    <tr>\n",
       "      <th>CodCli</th>\n",
       "      <td>887455.00</td>\n",
       "      <td>1090319543962.72</td>\n",
       "      <td>473506820.08</td>\n",
       "      <td>1090100000043.00</td>\n",
       "      <td>1090100334341.00</td>\n",
       "      <td>1090100817058.00</td>\n",
       "      <td>1090400011371.00</td>\n",
       "      <td>1094200000159.00</td>\n",
       "    </tr>\n",
       "    <tr>\n",
       "      <th>Edad</th>\n",
       "      <td>887455.00</td>\n",
       "      <td>49.54</td>\n",
       "      <td>13.98</td>\n",
       "      <td>19.00</td>\n",
       "      <td>38.00</td>\n",
       "      <td>49.00</td>\n",
       "      <td>60.00</td>\n",
       "      <td>121.00</td>\n",
       "    </tr>\n",
       "    <tr>\n",
       "      <th>Sexo</th>\n",
       "      <td>887455.00</td>\n",
       "      <td>0.28</td>\n",
       "      <td>0.45</td>\n",
       "      <td>0.00</td>\n",
       "      <td>0.00</td>\n",
       "      <td>0.00</td>\n",
       "      <td>1.00</td>\n",
       "      <td>1.00</td>\n",
       "    </tr>\n",
       "    <tr>\n",
       "      <th>EstaCiv</th>\n",
       "      <td>887455.00</td>\n",
       "      <td>3.63</td>\n",
       "      <td>1.87</td>\n",
       "      <td>1.00</td>\n",
       "      <td>1.00</td>\n",
       "      <td>5.00</td>\n",
       "      <td>5.00</td>\n",
       "      <td>6.00</td>\n",
       "    </tr>\n",
       "    <tr>\n",
       "      <th>TipoViv</th>\n",
       "      <td>887455.00</td>\n",
       "      <td>3.37</td>\n",
       "      <td>0.70</td>\n",
       "      <td>1.00</td>\n",
       "      <td>3.00</td>\n",
       "      <td>3.00</td>\n",
       "      <td>4.00</td>\n",
       "      <td>4.00</td>\n",
       "    </tr>\n",
       "    <tr>\n",
       "      <th>CantCred</th>\n",
       "      <td>887455.00</td>\n",
       "      <td>1.45</td>\n",
       "      <td>1.09</td>\n",
       "      <td>1.00</td>\n",
       "      <td>1.00</td>\n",
       "      <td>1.00</td>\n",
       "      <td>2.00</td>\n",
       "      <td>56.00</td>\n",
       "    </tr>\n",
       "    <tr>\n",
       "      <th>Desem</th>\n",
       "      <td>887455.00</td>\n",
       "      <td>1265.23</td>\n",
       "      <td>2118.05</td>\n",
       "      <td>40.00</td>\n",
       "      <td>397.09</td>\n",
       "      <td>740.00</td>\n",
       "      <td>1437.43</td>\n",
       "      <td>455218.04</td>\n",
       "    </tr>\n",
       "    <tr>\n",
       "      <th>SalVigSol</th>\n",
       "      <td>887455.00</td>\n",
       "      <td>1090.63</td>\n",
       "      <td>1986.77</td>\n",
       "      <td>0.00</td>\n",
       "      <td>313.67</td>\n",
       "      <td>606.28</td>\n",
       "      <td>1224.00</td>\n",
       "      <td>455218.04</td>\n",
       "    </tr>\n",
       "    <tr>\n",
       "      <th>Monto_Tasación</th>\n",
       "      <td>887455.00</td>\n",
       "      <td>1522.69</td>\n",
       "      <td>2536.81</td>\n",
       "      <td>48.60</td>\n",
       "      <td>470.00</td>\n",
       "      <td>886.20</td>\n",
       "      <td>1725.50</td>\n",
       "      <td>535552.80</td>\n",
       "    </tr>\n",
       "    <tr>\n",
       "      <th>DiasEfec</th>\n",
       "      <td>887455.00</td>\n",
       "      <td>1450.50</td>\n",
       "      <td>1092.69</td>\n",
       "      <td>1.00</td>\n",
       "      <td>562.00</td>\n",
       "      <td>1188.00</td>\n",
       "      <td>2114.00</td>\n",
       "      <td>4834.00</td>\n",
       "    </tr>\n",
       "    <tr>\n",
       "      <th>MaxDeuda</th>\n",
       "      <td>887455.00</td>\n",
       "      <td>1759.71</td>\n",
       "      <td>2224.84</td>\n",
       "      <td>50.00</td>\n",
       "      <td>604.50</td>\n",
       "      <td>1122.00</td>\n",
       "      <td>2071.00</td>\n",
       "      <td>60120.50</td>\n",
       "    </tr>\n",
       "    <tr>\n",
       "      <th>MaxDiasAtra</th>\n",
       "      <td>887455.00</td>\n",
       "      <td>22.64</td>\n",
       "      <td>21.76</td>\n",
       "      <td>0.00</td>\n",
       "      <td>9.00</td>\n",
       "      <td>19.00</td>\n",
       "      <td>28.00</td>\n",
       "      <td>1050.00</td>\n",
       "    </tr>\n",
       "    <tr>\n",
       "      <th>MaxGramOro</th>\n",
       "      <td>887455.00</td>\n",
       "      <td>12.03</td>\n",
       "      <td>19.08</td>\n",
       "      <td>0.45</td>\n",
       "      <td>3.83</td>\n",
       "      <td>7.19</td>\n",
       "      <td>13.65</td>\n",
       "      <td>3347.21</td>\n",
       "    </tr>\n",
       "    <tr>\n",
       "      <th>FechAnalisis</th>\n",
       "      <td>887455.00</td>\n",
       "      <td>13617700288.07</td>\n",
       "      <td>119602387.08</td>\n",
       "      <td>13400035200.00</td>\n",
       "      <td>13514601600.00</td>\n",
       "      <td>13614998400.00</td>\n",
       "      <td>13720924800.00</td>\n",
       "      <td>13800326400.00</td>\n",
       "    </tr>\n",
       "    <tr>\n",
       "      <th>AntiDias</th>\n",
       "      <td>887455.00</td>\n",
       "      <td>767.76</td>\n",
       "      <td>980.40</td>\n",
       "      <td>0.00</td>\n",
       "      <td>209.00</td>\n",
       "      <td>387.00</td>\n",
       "      <td>815.00</td>\n",
       "      <td>4767.00</td>\n",
       "    </tr>\n",
       "    <tr>\n",
       "      <th>FlagAdj</th>\n",
       "      <td>887455.00</td>\n",
       "      <td>0.13</td>\n",
       "      <td>0.33</td>\n",
       "      <td>0.00</td>\n",
       "      <td>0.00</td>\n",
       "      <td>0.00</td>\n",
       "      <td>0.00</td>\n",
       "      <td>1.00</td>\n",
       "    </tr>\n",
       "  </tbody>\n",
       "</table>\n",
       "</div>"
      ],
      "text/plain": [
       "                    count              mean           std               min  \\\n",
       "CodCli          887455.00  1090319543962.72  473506820.08  1090100000043.00   \n",
       "Edad            887455.00             49.54         13.98             19.00   \n",
       "Sexo            887455.00              0.28          0.45              0.00   \n",
       "EstaCiv         887455.00              3.63          1.87              1.00   \n",
       "TipoViv         887455.00              3.37          0.70              1.00   \n",
       "CantCred        887455.00              1.45          1.09              1.00   \n",
       "Desem           887455.00           1265.23       2118.05             40.00   \n",
       "SalVigSol       887455.00           1090.63       1986.77              0.00   \n",
       "Monto_Tasación  887455.00           1522.69       2536.81             48.60   \n",
       "DiasEfec        887455.00           1450.50       1092.69              1.00   \n",
       "MaxDeuda        887455.00           1759.71       2224.84             50.00   \n",
       "MaxDiasAtra     887455.00             22.64         21.76              0.00   \n",
       "MaxGramOro      887455.00             12.03         19.08              0.45   \n",
       "FechAnalisis    887455.00    13617700288.07  119602387.08    13400035200.00   \n",
       "AntiDias        887455.00            767.76        980.40              0.00   \n",
       "FlagAdj         887455.00              0.13          0.33              0.00   \n",
       "\n",
       "                             25%               50%               75%  \\\n",
       "CodCli          1090100334341.00  1090100817058.00  1090400011371.00   \n",
       "Edad                       38.00             49.00             60.00   \n",
       "Sexo                        0.00              0.00              1.00   \n",
       "EstaCiv                     1.00              5.00              5.00   \n",
       "TipoViv                     3.00              3.00              4.00   \n",
       "CantCred                    1.00              1.00              2.00   \n",
       "Desem                     397.09            740.00           1437.43   \n",
       "SalVigSol                 313.67            606.28           1224.00   \n",
       "Monto_Tasación            470.00            886.20           1725.50   \n",
       "DiasEfec                  562.00           1188.00           2114.00   \n",
       "MaxDeuda                  604.50           1122.00           2071.00   \n",
       "MaxDiasAtra                 9.00             19.00             28.00   \n",
       "MaxGramOro                  3.83              7.19             13.65   \n",
       "FechAnalisis      13514601600.00    13614998400.00    13720924800.00   \n",
       "AntiDias                  209.00            387.00            815.00   \n",
       "FlagAdj                     0.00              0.00              0.00   \n",
       "\n",
       "                             max  \n",
       "CodCli          1094200000159.00  \n",
       "Edad                      121.00  \n",
       "Sexo                        1.00  \n",
       "EstaCiv                     6.00  \n",
       "TipoViv                     4.00  \n",
       "CantCred                   56.00  \n",
       "Desem                  455218.04  \n",
       "SalVigSol              455218.04  \n",
       "Monto_Tasación         535552.80  \n",
       "DiasEfec                 4834.00  \n",
       "MaxDeuda                60120.50  \n",
       "MaxDiasAtra              1050.00  \n",
       "MaxGramOro               3347.21  \n",
       "FechAnalisis      13800326400.00  \n",
       "AntiDias                 4767.00  \n",
       "FlagAdj                     1.00  "
      ]
     },
     "execution_count": 30,
     "metadata": {},
     "output_type": "execute_result"
    }
   ],
   "source": [
    "data.describe().T.apply(lambda s: s.apply('{0:.2f}'.format))  ## describe las variables"
   ]
  },
  {
   "cell_type": "code",
   "execution_count": 31,
   "id": "2506f7ad",
   "metadata": {},
   "outputs": [],
   "source": [
    "#Dicotomizando\n",
    "#EstaCiv 1:CASADO, 2: CONVIVIENTE, 3: DIVORCIADO, 4: SEPARADO, 5: SOLTERO, 6: VIUDO\n",
    "data['EstaCiv_cas'] = data['EstaCiv']\n",
    "data['EstaCiv_con'] = data['EstaCiv']\n",
    "data['EstaCiv_div'] = data['EstaCiv']\n",
    "data['EstaCiv_sep'] = data['EstaCiv']\n",
    "data['EstaCiv_sol'] = data['EstaCiv']\n",
    "data.replace(to_replace={\"EstaCiv_cas\": {2:0,3:0,4:0,5:0,6:0},\"EstaCiv_con\": {1:0,2:1,3:0,4:0,5:0,6:0},\"EstaCiv_div\": {1:0,2:0,3:1,4:0,5:0,6:0},\"EstaCiv_sep\": {1:0,2:0,3:0,4:1,5:0,6:0},\"EstaCiv_sol\": {1:0,2:0,3:0,4:0,5:1,6:0}},inplace=True)\n",
    "\n",
    "#TipoViv 1:ALQUILADA, 2: ALQUILER VENTA, 3: DE FAMILIA, 4: PROPIA\n",
    "data['TipoViv_alq'] = data['TipoViv']\n",
    "data['TipoViv_def'] = data['TipoViv']\n",
    "data['TipoViv_pro'] = data['TipoViv']\n",
    "data.replace(to_replace={\"TipoViv_alq\": {2:0,3:0,4:0},\"TipoViv_def\": {1:0,2:0,3:1,4:0},\"TipoViv_pro\": {1:0,2:0,3:0,4:1}},inplace=True)\n",
    "\n",
    "#Eliminando variables de no interés\n",
    "del data['EstaCiv'],data['TipoViv']"
   ]
  },
  {
   "cell_type": "code",
   "execution_count": 32,
   "id": "c9495aec",
   "metadata": {},
   "outputs": [
    {
     "data": {
      "text/html": [
       "<div>\n",
       "<style scoped>\n",
       "    .dataframe tbody tr th:only-of-type {\n",
       "        vertical-align: middle;\n",
       "    }\n",
       "\n",
       "    .dataframe tbody tr th {\n",
       "        vertical-align: top;\n",
       "    }\n",
       "\n",
       "    .dataframe thead th {\n",
       "        text-align: right;\n",
       "    }\n",
       "</style>\n",
       "<table border=\"1\" class=\"dataframe\">\n",
       "  <thead>\n",
       "    <tr style=\"text-align: right;\">\n",
       "      <th></th>\n",
       "      <th>CodCli</th>\n",
       "      <th>Edad</th>\n",
       "      <th>Sexo</th>\n",
       "      <th>CantCred</th>\n",
       "      <th>Desem</th>\n",
       "      <th>SalVigSol</th>\n",
       "      <th>Monto_Tasación</th>\n",
       "      <th>DiasEfec</th>\n",
       "      <th>MaxDeuda</th>\n",
       "      <th>MaxDiasAtra</th>\n",
       "      <th>...</th>\n",
       "      <th>FlagAdj</th>\n",
       "      <th>t_Periodo</th>\n",
       "      <th>EstaCiv_cas</th>\n",
       "      <th>EstaCiv_con</th>\n",
       "      <th>EstaCiv_div</th>\n",
       "      <th>EstaCiv_sep</th>\n",
       "      <th>EstaCiv_sol</th>\n",
       "      <th>TipoViv_alq</th>\n",
       "      <th>TipoViv_def</th>\n",
       "      <th>TipoViv_pro</th>\n",
       "    </tr>\n",
       "  </thead>\n",
       "  <tbody>\n",
       "    <tr>\n",
       "      <th>0</th>\n",
       "      <td>1.090300e+12</td>\n",
       "      <td>69.0</td>\n",
       "      <td>1.0</td>\n",
       "      <td>2.0</td>\n",
       "      <td>2613.74</td>\n",
       "      <td>2549.54</td>\n",
       "      <td>2736.90</td>\n",
       "      <td>551.0</td>\n",
       "      <td>2690.89</td>\n",
       "      <td>6.0</td>\n",
       "      <td>...</td>\n",
       "      <td>0.0</td>\n",
       "      <td>2007-05-01</td>\n",
       "      <td>1.0</td>\n",
       "      <td>0.0</td>\n",
       "      <td>0.0</td>\n",
       "      <td>0.0</td>\n",
       "      <td>0.0</td>\n",
       "      <td>1.0</td>\n",
       "      <td>0.0</td>\n",
       "      <td>0.0</td>\n",
       "    </tr>\n",
       "    <tr>\n",
       "      <th>1</th>\n",
       "      <td>1.090300e+12</td>\n",
       "      <td>55.0</td>\n",
       "      <td>0.0</td>\n",
       "      <td>2.0</td>\n",
       "      <td>2782.07</td>\n",
       "      <td>1488.64</td>\n",
       "      <td>3051.00</td>\n",
       "      <td>1327.0</td>\n",
       "      <td>1790.80</td>\n",
       "      <td>33.0</td>\n",
       "      <td>...</td>\n",
       "      <td>0.0</td>\n",
       "      <td>2007-05-01</td>\n",
       "      <td>0.0</td>\n",
       "      <td>0.0</td>\n",
       "      <td>0.0</td>\n",
       "      <td>0.0</td>\n",
       "      <td>1.0</td>\n",
       "      <td>0.0</td>\n",
       "      <td>0.0</td>\n",
       "      <td>1.0</td>\n",
       "    </tr>\n",
       "    <tr>\n",
       "      <th>2</th>\n",
       "      <td>1.090300e+12</td>\n",
       "      <td>55.0</td>\n",
       "      <td>0.0</td>\n",
       "      <td>1.0</td>\n",
       "      <td>1407.21</td>\n",
       "      <td>1205.06</td>\n",
       "      <td>1473.52</td>\n",
       "      <td>1645.0</td>\n",
       "      <td>4315.00</td>\n",
       "      <td>28.0</td>\n",
       "      <td>...</td>\n",
       "      <td>0.0</td>\n",
       "      <td>2007-05-01</td>\n",
       "      <td>1.0</td>\n",
       "      <td>0.0</td>\n",
       "      <td>0.0</td>\n",
       "      <td>0.0</td>\n",
       "      <td>0.0</td>\n",
       "      <td>0.0</td>\n",
       "      <td>0.0</td>\n",
       "      <td>1.0</td>\n",
       "    </tr>\n",
       "    <tr>\n",
       "      <th>3</th>\n",
       "      <td>1.090300e+12</td>\n",
       "      <td>61.0</td>\n",
       "      <td>0.0</td>\n",
       "      <td>2.0</td>\n",
       "      <td>658.70</td>\n",
       "      <td>429.95</td>\n",
       "      <td>1095.28</td>\n",
       "      <td>424.0</td>\n",
       "      <td>399.62</td>\n",
       "      <td>28.0</td>\n",
       "      <td>...</td>\n",
       "      <td>1.0</td>\n",
       "      <td>2007-05-01</td>\n",
       "      <td>1.0</td>\n",
       "      <td>0.0</td>\n",
       "      <td>0.0</td>\n",
       "      <td>0.0</td>\n",
       "      <td>0.0</td>\n",
       "      <td>0.0</td>\n",
       "      <td>0.0</td>\n",
       "      <td>1.0</td>\n",
       "    </tr>\n",
       "    <tr>\n",
       "      <th>4</th>\n",
       "      <td>1.090300e+12</td>\n",
       "      <td>59.0</td>\n",
       "      <td>0.0</td>\n",
       "      <td>2.0</td>\n",
       "      <td>2162.62</td>\n",
       "      <td>2148.78</td>\n",
       "      <td>2264.52</td>\n",
       "      <td>1213.0</td>\n",
       "      <td>1642.20</td>\n",
       "      <td>46.0</td>\n",
       "      <td>...</td>\n",
       "      <td>0.0</td>\n",
       "      <td>2007-05-01</td>\n",
       "      <td>0.0</td>\n",
       "      <td>0.0</td>\n",
       "      <td>0.0</td>\n",
       "      <td>0.0</td>\n",
       "      <td>1.0</td>\n",
       "      <td>0.0</td>\n",
       "      <td>0.0</td>\n",
       "      <td>1.0</td>\n",
       "    </tr>\n",
       "  </tbody>\n",
       "</table>\n",
       "<p>5 rows × 23 columns</p>\n",
       "</div>"
      ],
      "text/plain": [
       "         CodCli  Edad  Sexo  CantCred    Desem  SalVigSol  Monto_Tasación  \\\n",
       "0  1.090300e+12  69.0   1.0       2.0  2613.74    2549.54         2736.90   \n",
       "1  1.090300e+12  55.0   0.0       2.0  2782.07    1488.64         3051.00   \n",
       "2  1.090300e+12  55.0   0.0       1.0  1407.21    1205.06         1473.52   \n",
       "3  1.090300e+12  61.0   0.0       2.0   658.70     429.95         1095.28   \n",
       "4  1.090300e+12  59.0   0.0       2.0  2162.62    2148.78         2264.52   \n",
       "\n",
       "   DiasEfec  MaxDeuda  MaxDiasAtra  ...  FlagAdj  t_Periodo  EstaCiv_cas  \\\n",
       "0     551.0   2690.89          6.0  ...      0.0 2007-05-01          1.0   \n",
       "1    1327.0   1790.80         33.0  ...      0.0 2007-05-01          0.0   \n",
       "2    1645.0   4315.00         28.0  ...      0.0 2007-05-01          1.0   \n",
       "3     424.0    399.62         28.0  ...      1.0 2007-05-01          1.0   \n",
       "4    1213.0   1642.20         46.0  ...      0.0 2007-05-01          0.0   \n",
       "\n",
       "   EstaCiv_con EstaCiv_div  EstaCiv_sep  EstaCiv_sol  TipoViv_alq  \\\n",
       "0          0.0         0.0          0.0          0.0          1.0   \n",
       "1          0.0         0.0          0.0          1.0          0.0   \n",
       "2          0.0         0.0          0.0          0.0          0.0   \n",
       "3          0.0         0.0          0.0          0.0          0.0   \n",
       "4          0.0         0.0          0.0          1.0          0.0   \n",
       "\n",
       "   TipoViv_def  TipoViv_pro  \n",
       "0          0.0          0.0  \n",
       "1          0.0          1.0  \n",
       "2          0.0          1.0  \n",
       "3          0.0          1.0  \n",
       "4          0.0          1.0  \n",
       "\n",
       "[5 rows x 23 columns]"
      ]
     },
     "execution_count": 32,
     "metadata": {},
     "output_type": "execute_result"
    }
   ],
   "source": [
    "data.head()"
   ]
  },
  {
   "cell_type": "code",
   "execution_count": 33,
   "id": "7e2534a1",
   "metadata": {},
   "outputs": [],
   "source": [
    "# Nos quedaremos con los ultimos registros de cada cliente, con el fin de contar con un único registro por cliente.\n",
    "data_last=data.drop_duplicates(subset=['CodCli'], keep='last')"
   ]
  },
  {
   "cell_type": "code",
   "execution_count": 34,
   "id": "65fdd4fb",
   "metadata": {
    "scrolled": true
   },
   "outputs": [
    {
     "data": {
      "text/html": [
       "<div>\n",
       "<style scoped>\n",
       "    .dataframe tbody tr th:only-of-type {\n",
       "        vertical-align: middle;\n",
       "    }\n",
       "\n",
       "    .dataframe tbody tr th {\n",
       "        vertical-align: top;\n",
       "    }\n",
       "\n",
       "    .dataframe thead th {\n",
       "        text-align: right;\n",
       "    }\n",
       "</style>\n",
       "<table border=\"1\" class=\"dataframe\">\n",
       "  <thead>\n",
       "    <tr style=\"text-align: right;\">\n",
       "      <th></th>\n",
       "      <th>CodCli</th>\n",
       "      <th>Edad</th>\n",
       "      <th>Sexo</th>\n",
       "      <th>CantCred</th>\n",
       "      <th>Desem</th>\n",
       "      <th>SalVigSol</th>\n",
       "      <th>Monto_Tasación</th>\n",
       "      <th>DiasEfec</th>\n",
       "      <th>MaxDeuda</th>\n",
       "      <th>MaxDiasAtra</th>\n",
       "      <th>...</th>\n",
       "      <th>FlagAdj</th>\n",
       "      <th>t_Periodo</th>\n",
       "      <th>EstaCiv_cas</th>\n",
       "      <th>EstaCiv_con</th>\n",
       "      <th>EstaCiv_div</th>\n",
       "      <th>EstaCiv_sep</th>\n",
       "      <th>EstaCiv_sol</th>\n",
       "      <th>TipoViv_alq</th>\n",
       "      <th>TipoViv_def</th>\n",
       "      <th>TipoViv_pro</th>\n",
       "    </tr>\n",
       "  </thead>\n",
       "  <tbody>\n",
       "    <tr>\n",
       "      <th>6</th>\n",
       "      <td>1.090300e+12</td>\n",
       "      <td>66.0</td>\n",
       "      <td>0.0</td>\n",
       "      <td>1.0</td>\n",
       "      <td>561.16</td>\n",
       "      <td>277.03</td>\n",
       "      <td>587.60</td>\n",
       "      <td>77.0</td>\n",
       "      <td>527.90</td>\n",
       "      <td>21.0</td>\n",
       "      <td>...</td>\n",
       "      <td>0.0</td>\n",
       "      <td>2007-05-01</td>\n",
       "      <td>1.0</td>\n",
       "      <td>0.0</td>\n",
       "      <td>0.0</td>\n",
       "      <td>0.0</td>\n",
       "      <td>0.0</td>\n",
       "      <td>0.0</td>\n",
       "      <td>0.0</td>\n",
       "      <td>1.0</td>\n",
       "    </tr>\n",
       "    <tr>\n",
       "      <th>31</th>\n",
       "      <td>1.090300e+12</td>\n",
       "      <td>67.0</td>\n",
       "      <td>0.0</td>\n",
       "      <td>1.0</td>\n",
       "      <td>335.22</td>\n",
       "      <td>331.66</td>\n",
       "      <td>351.02</td>\n",
       "      <td>181.0</td>\n",
       "      <td>315.35</td>\n",
       "      <td>21.0</td>\n",
       "      <td>...</td>\n",
       "      <td>0.0</td>\n",
       "      <td>2007-05-01</td>\n",
       "      <td>1.0</td>\n",
       "      <td>0.0</td>\n",
       "      <td>0.0</td>\n",
       "      <td>0.0</td>\n",
       "      <td>0.0</td>\n",
       "      <td>0.0</td>\n",
       "      <td>1.0</td>\n",
       "      <td>0.0</td>\n",
       "    </tr>\n",
       "    <tr>\n",
       "      <th>47</th>\n",
       "      <td>1.090300e+12</td>\n",
       "      <td>56.0</td>\n",
       "      <td>0.0</td>\n",
       "      <td>1.0</td>\n",
       "      <td>180.12</td>\n",
       "      <td>176.69</td>\n",
       "      <td>188.61</td>\n",
       "      <td>123.0</td>\n",
       "      <td>178.73</td>\n",
       "      <td>8.0</td>\n",
       "      <td>...</td>\n",
       "      <td>0.0</td>\n",
       "      <td>2007-05-01</td>\n",
       "      <td>0.0</td>\n",
       "      <td>0.0</td>\n",
       "      <td>0.0</td>\n",
       "      <td>0.0</td>\n",
       "      <td>1.0</td>\n",
       "      <td>0.0</td>\n",
       "      <td>0.0</td>\n",
       "      <td>1.0</td>\n",
       "    </tr>\n",
       "    <tr>\n",
       "      <th>113</th>\n",
       "      <td>1.090200e+12</td>\n",
       "      <td>59.0</td>\n",
       "      <td>0.0</td>\n",
       "      <td>1.0</td>\n",
       "      <td>107.92</td>\n",
       "      <td>107.92</td>\n",
       "      <td>113.00</td>\n",
       "      <td>14.0</td>\n",
       "      <td>104.89</td>\n",
       "      <td>2.0</td>\n",
       "      <td>...</td>\n",
       "      <td>0.0</td>\n",
       "      <td>2007-05-01</td>\n",
       "      <td>1.0</td>\n",
       "      <td>0.0</td>\n",
       "      <td>0.0</td>\n",
       "      <td>0.0</td>\n",
       "      <td>0.0</td>\n",
       "      <td>0.0</td>\n",
       "      <td>1.0</td>\n",
       "      <td>0.0</td>\n",
       "    </tr>\n",
       "    <tr>\n",
       "      <th>180</th>\n",
       "      <td>1.090300e+12</td>\n",
       "      <td>50.0</td>\n",
       "      <td>1.0</td>\n",
       "      <td>1.0</td>\n",
       "      <td>308.95</td>\n",
       "      <td>308.95</td>\n",
       "      <td>393.24</td>\n",
       "      <td>16.0</td>\n",
       "      <td>300.27</td>\n",
       "      <td>12.0</td>\n",
       "      <td>...</td>\n",
       "      <td>0.0</td>\n",
       "      <td>2007-05-01</td>\n",
       "      <td>0.0</td>\n",
       "      <td>0.0</td>\n",
       "      <td>0.0</td>\n",
       "      <td>0.0</td>\n",
       "      <td>1.0</td>\n",
       "      <td>0.0</td>\n",
       "      <td>0.0</td>\n",
       "      <td>1.0</td>\n",
       "    </tr>\n",
       "    <tr>\n",
       "      <th>...</th>\n",
       "      <td>...</td>\n",
       "      <td>...</td>\n",
       "      <td>...</td>\n",
       "      <td>...</td>\n",
       "      <td>...</td>\n",
       "      <td>...</td>\n",
       "      <td>...</td>\n",
       "      <td>...</td>\n",
       "      <td>...</td>\n",
       "      <td>...</td>\n",
       "      <td>...</td>\n",
       "      <td>...</td>\n",
       "      <td>...</td>\n",
       "      <td>...</td>\n",
       "      <td>...</td>\n",
       "      <td>...</td>\n",
       "      <td>...</td>\n",
       "      <td>...</td>\n",
       "      <td>...</td>\n",
       "      <td>...</td>\n",
       "      <td>...</td>\n",
       "    </tr>\n",
       "    <tr>\n",
       "      <th>2425</th>\n",
       "      <td>1.090100e+12</td>\n",
       "      <td>75.0</td>\n",
       "      <td>0.0</td>\n",
       "      <td>1.0</td>\n",
       "      <td>355.68</td>\n",
       "      <td>29.21</td>\n",
       "      <td>592.80</td>\n",
       "      <td>292.0</td>\n",
       "      <td>334.60</td>\n",
       "      <td>3.0</td>\n",
       "      <td>...</td>\n",
       "      <td>0.0</td>\n",
       "      <td>2007-05-01</td>\n",
       "      <td>1.0</td>\n",
       "      <td>0.0</td>\n",
       "      <td>0.0</td>\n",
       "      <td>0.0</td>\n",
       "      <td>0.0</td>\n",
       "      <td>0.0</td>\n",
       "      <td>1.0</td>\n",
       "      <td>0.0</td>\n",
       "    </tr>\n",
       "    <tr>\n",
       "      <th>2459</th>\n",
       "      <td>1.090100e+12</td>\n",
       "      <td>66.0</td>\n",
       "      <td>0.0</td>\n",
       "      <td>1.0</td>\n",
       "      <td>224.20</td>\n",
       "      <td>177.64</td>\n",
       "      <td>448.40</td>\n",
       "      <td>361.0</td>\n",
       "      <td>210.91</td>\n",
       "      <td>20.0</td>\n",
       "      <td>...</td>\n",
       "      <td>1.0</td>\n",
       "      <td>2007-05-01</td>\n",
       "      <td>1.0</td>\n",
       "      <td>0.0</td>\n",
       "      <td>0.0</td>\n",
       "      <td>0.0</td>\n",
       "      <td>0.0</td>\n",
       "      <td>0.0</td>\n",
       "      <td>1.0</td>\n",
       "      <td>0.0</td>\n",
       "    </tr>\n",
       "    <tr>\n",
       "      <th>2504</th>\n",
       "      <td>1.090100e+12</td>\n",
       "      <td>52.0</td>\n",
       "      <td>0.0</td>\n",
       "      <td>1.0</td>\n",
       "      <td>7653.33</td>\n",
       "      <td>7653.33</td>\n",
       "      <td>8013.96</td>\n",
       "      <td>31.0</td>\n",
       "      <td>7199.75</td>\n",
       "      <td>45.0</td>\n",
       "      <td>...</td>\n",
       "      <td>1.0</td>\n",
       "      <td>2007-05-01</td>\n",
       "      <td>1.0</td>\n",
       "      <td>0.0</td>\n",
       "      <td>0.0</td>\n",
       "      <td>0.0</td>\n",
       "      <td>0.0</td>\n",
       "      <td>0.0</td>\n",
       "      <td>1.0</td>\n",
       "      <td>0.0</td>\n",
       "    </tr>\n",
       "    <tr>\n",
       "      <th>2509</th>\n",
       "      <td>1.090100e+12</td>\n",
       "      <td>56.0</td>\n",
       "      <td>0.0</td>\n",
       "      <td>1.0</td>\n",
       "      <td>241.73</td>\n",
       "      <td>238.28</td>\n",
       "      <td>253.12</td>\n",
       "      <td>91.0</td>\n",
       "      <td>767.49</td>\n",
       "      <td>24.0</td>\n",
       "      <td>...</td>\n",
       "      <td>1.0</td>\n",
       "      <td>2007-05-01</td>\n",
       "      <td>1.0</td>\n",
       "      <td>0.0</td>\n",
       "      <td>0.0</td>\n",
       "      <td>0.0</td>\n",
       "      <td>0.0</td>\n",
       "      <td>0.0</td>\n",
       "      <td>1.0</td>\n",
       "      <td>0.0</td>\n",
       "    </tr>\n",
       "    <tr>\n",
       "      <th>2546</th>\n",
       "      <td>1.090100e+12</td>\n",
       "      <td>60.0</td>\n",
       "      <td>0.0</td>\n",
       "      <td>1.0</td>\n",
       "      <td>228.00</td>\n",
       "      <td>223.04</td>\n",
       "      <td>380.00</td>\n",
       "      <td>156.0</td>\n",
       "      <td>214.49</td>\n",
       "      <td>67.0</td>\n",
       "      <td>...</td>\n",
       "      <td>0.0</td>\n",
       "      <td>2007-05-01</td>\n",
       "      <td>0.0</td>\n",
       "      <td>1.0</td>\n",
       "      <td>0.0</td>\n",
       "      <td>0.0</td>\n",
       "      <td>0.0</td>\n",
       "      <td>0.0</td>\n",
       "      <td>0.0</td>\n",
       "      <td>1.0</td>\n",
       "    </tr>\n",
       "  </tbody>\n",
       "</table>\n",
       "<p>100 rows × 23 columns</p>\n",
       "</div>"
      ],
      "text/plain": [
       "            CodCli  Edad  Sexo  CantCred    Desem  SalVigSol  Monto_Tasación  \\\n",
       "6     1.090300e+12  66.0   0.0       1.0   561.16     277.03          587.60   \n",
       "31    1.090300e+12  67.0   0.0       1.0   335.22     331.66          351.02   \n",
       "47    1.090300e+12  56.0   0.0       1.0   180.12     176.69          188.61   \n",
       "113   1.090200e+12  59.0   0.0       1.0   107.92     107.92          113.00   \n",
       "180   1.090300e+12  50.0   1.0       1.0   308.95     308.95          393.24   \n",
       "...            ...   ...   ...       ...      ...        ...             ...   \n",
       "2425  1.090100e+12  75.0   0.0       1.0   355.68      29.21          592.80   \n",
       "2459  1.090100e+12  66.0   0.0       1.0   224.20     177.64          448.40   \n",
       "2504  1.090100e+12  52.0   0.0       1.0  7653.33    7653.33         8013.96   \n",
       "2509  1.090100e+12  56.0   0.0       1.0   241.73     238.28          253.12   \n",
       "2546  1.090100e+12  60.0   0.0       1.0   228.00     223.04          380.00   \n",
       "\n",
       "      DiasEfec  MaxDeuda  MaxDiasAtra  ...  FlagAdj  t_Periodo  EstaCiv_cas  \\\n",
       "6         77.0    527.90         21.0  ...      0.0 2007-05-01          1.0   \n",
       "31       181.0    315.35         21.0  ...      0.0 2007-05-01          1.0   \n",
       "47       123.0    178.73          8.0  ...      0.0 2007-05-01          0.0   \n",
       "113       14.0    104.89          2.0  ...      0.0 2007-05-01          1.0   \n",
       "180       16.0    300.27         12.0  ...      0.0 2007-05-01          0.0   \n",
       "...        ...       ...          ...  ...      ...        ...          ...   \n",
       "2425     292.0    334.60          3.0  ...      0.0 2007-05-01          1.0   \n",
       "2459     361.0    210.91         20.0  ...      1.0 2007-05-01          1.0   \n",
       "2504      31.0   7199.75         45.0  ...      1.0 2007-05-01          1.0   \n",
       "2509      91.0    767.49         24.0  ...      1.0 2007-05-01          1.0   \n",
       "2546     156.0    214.49         67.0  ...      0.0 2007-05-01          0.0   \n",
       "\n",
       "      EstaCiv_con EstaCiv_div  EstaCiv_sep  EstaCiv_sol  TipoViv_alq  \\\n",
       "6             0.0         0.0          0.0          0.0          0.0   \n",
       "31            0.0         0.0          0.0          0.0          0.0   \n",
       "47            0.0         0.0          0.0          1.0          0.0   \n",
       "113           0.0         0.0          0.0          0.0          0.0   \n",
       "180           0.0         0.0          0.0          1.0          0.0   \n",
       "...           ...         ...          ...          ...          ...   \n",
       "2425          0.0         0.0          0.0          0.0          0.0   \n",
       "2459          0.0         0.0          0.0          0.0          0.0   \n",
       "2504          0.0         0.0          0.0          0.0          0.0   \n",
       "2509          0.0         0.0          0.0          0.0          0.0   \n",
       "2546          1.0         0.0          0.0          0.0          0.0   \n",
       "\n",
       "      TipoViv_def  TipoViv_pro  \n",
       "6             0.0          1.0  \n",
       "31            1.0          0.0  \n",
       "47            0.0          1.0  \n",
       "113           1.0          0.0  \n",
       "180           0.0          1.0  \n",
       "...           ...          ...  \n",
       "2425          1.0          0.0  \n",
       "2459          1.0          0.0  \n",
       "2504          1.0          0.0  \n",
       "2509          1.0          0.0  \n",
       "2546          0.0          1.0  \n",
       "\n",
       "[100 rows x 23 columns]"
      ]
     },
     "execution_count": 34,
     "metadata": {},
     "output_type": "execute_result"
    }
   ],
   "source": [
    "data_last.head(100)"
   ]
  },
  {
   "cell_type": "code",
   "execution_count": 35,
   "id": "95d3278f",
   "metadata": {
    "scrolled": true
   },
   "outputs": [
    {
     "data": {
      "text/html": [
       "<div>\n",
       "<style scoped>\n",
       "    .dataframe tbody tr th:only-of-type {\n",
       "        vertical-align: middle;\n",
       "    }\n",
       "\n",
       "    .dataframe tbody tr th {\n",
       "        vertical-align: top;\n",
       "    }\n",
       "\n",
       "    .dataframe thead th {\n",
       "        text-align: right;\n",
       "    }\n",
       "</style>\n",
       "<table border=\"1\" class=\"dataframe\">\n",
       "  <thead>\n",
       "    <tr style=\"text-align: right;\">\n",
       "      <th></th>\n",
       "      <th>count</th>\n",
       "      <th>mean</th>\n",
       "      <th>std</th>\n",
       "      <th>min</th>\n",
       "      <th>25%</th>\n",
       "      <th>50%</th>\n",
       "      <th>75%</th>\n",
       "      <th>max</th>\n",
       "    </tr>\n",
       "  </thead>\n",
       "  <tbody>\n",
       "    <tr>\n",
       "      <th>CodCli</th>\n",
       "      <td>41476.00</td>\n",
       "      <td>1090409967312.84</td>\n",
       "      <td>605335003.27</td>\n",
       "      <td>1090100000043.00</td>\n",
       "      <td>1090100547649.50</td>\n",
       "      <td>1090101354302.50</td>\n",
       "      <td>1090400188968.25</td>\n",
       "      <td>1094200000159.00</td>\n",
       "    </tr>\n",
       "    <tr>\n",
       "      <th>Edad</th>\n",
       "      <td>41476.00</td>\n",
       "      <td>45.69</td>\n",
       "      <td>13.86</td>\n",
       "      <td>19.00</td>\n",
       "      <td>35.00</td>\n",
       "      <td>44.00</td>\n",
       "      <td>55.00</td>\n",
       "      <td>121.00</td>\n",
       "    </tr>\n",
       "    <tr>\n",
       "      <th>Sexo</th>\n",
       "      <td>41476.00</td>\n",
       "      <td>0.34</td>\n",
       "      <td>0.48</td>\n",
       "      <td>0.00</td>\n",
       "      <td>0.00</td>\n",
       "      <td>0.00</td>\n",
       "      <td>1.00</td>\n",
       "      <td>1.00</td>\n",
       "    </tr>\n",
       "    <tr>\n",
       "      <th>CantCred</th>\n",
       "      <td>41476.00</td>\n",
       "      <td>1.17</td>\n",
       "      <td>0.61</td>\n",
       "      <td>1.00</td>\n",
       "      <td>1.00</td>\n",
       "      <td>1.00</td>\n",
       "      <td>1.00</td>\n",
       "      <td>22.00</td>\n",
       "    </tr>\n",
       "    <tr>\n",
       "      <th>Desem</th>\n",
       "      <td>41476.00</td>\n",
       "      <td>1123.19</td>\n",
       "      <td>2722.68</td>\n",
       "      <td>45.82</td>\n",
       "      <td>323.63</td>\n",
       "      <td>600.00</td>\n",
       "      <td>1190.05</td>\n",
       "      <td>307134.24</td>\n",
       "    </tr>\n",
       "    <tr>\n",
       "      <th>SalVigSol</th>\n",
       "      <td>41476.00</td>\n",
       "      <td>922.88</td>\n",
       "      <td>2640.00</td>\n",
       "      <td>0.00</td>\n",
       "      <td>229.50</td>\n",
       "      <td>450.67</td>\n",
       "      <td>954.35</td>\n",
       "      <td>307134.24</td>\n",
       "    </tr>\n",
       "    <tr>\n",
       "      <th>Monto_Tasación</th>\n",
       "      <td>41476.00</td>\n",
       "      <td>1366.64</td>\n",
       "      <td>3242.19</td>\n",
       "      <td>52.92</td>\n",
       "      <td>398.75</td>\n",
       "      <td>736.60</td>\n",
       "      <td>1448.96</td>\n",
       "      <td>361334.40</td>\n",
       "    </tr>\n",
       "    <tr>\n",
       "      <th>DiasEfec</th>\n",
       "      <td>41476.00</td>\n",
       "      <td>581.93</td>\n",
       "      <td>719.02</td>\n",
       "      <td>1.00</td>\n",
       "      <td>105.00</td>\n",
       "      <td>302.00</td>\n",
       "      <td>770.00</td>\n",
       "      <td>4822.00</td>\n",
       "    </tr>\n",
       "    <tr>\n",
       "      <th>MaxDeuda</th>\n",
       "      <td>41476.00</td>\n",
       "      <td>1341.52</td>\n",
       "      <td>1964.35</td>\n",
       "      <td>50.00</td>\n",
       "      <td>400.00</td>\n",
       "      <td>770.00</td>\n",
       "      <td>1500.07</td>\n",
       "      <td>60120.50</td>\n",
       "    </tr>\n",
       "    <tr>\n",
       "      <th>MaxDiasAtra</th>\n",
       "      <td>41476.00</td>\n",
       "      <td>17.92</td>\n",
       "      <td>16.58</td>\n",
       "      <td>0.00</td>\n",
       "      <td>7.00</td>\n",
       "      <td>16.00</td>\n",
       "      <td>25.00</td>\n",
       "      <td>484.00</td>\n",
       "    </tr>\n",
       "    <tr>\n",
       "      <th>MaxGramOro</th>\n",
       "      <td>41476.00</td>\n",
       "      <td>9.72</td>\n",
       "      <td>20.80</td>\n",
       "      <td>0.58</td>\n",
       "      <td>3.10</td>\n",
       "      <td>5.57</td>\n",
       "      <td>10.50</td>\n",
       "      <td>2258.34</td>\n",
       "    </tr>\n",
       "    <tr>\n",
       "      <th>FechAnalisis</th>\n",
       "      <td>41476.00</td>\n",
       "      <td>13684908555.04</td>\n",
       "      <td>119415309.12</td>\n",
       "      <td>13400035200.00</td>\n",
       "      <td>13598236800.00</td>\n",
       "      <td>13729564800.00</td>\n",
       "      <td>13797129600.00</td>\n",
       "      <td>13800326400.00</td>\n",
       "    </tr>\n",
       "    <tr>\n",
       "      <th>AntiDias</th>\n",
       "      <td>41476.00</td>\n",
       "      <td>1013.03</td>\n",
       "      <td>1357.92</td>\n",
       "      <td>0.00</td>\n",
       "      <td>107.00</td>\n",
       "      <td>294.00</td>\n",
       "      <td>1478.25</td>\n",
       "      <td>4767.00</td>\n",
       "    </tr>\n",
       "    <tr>\n",
       "      <th>FlagAdj</th>\n",
       "      <td>41476.00</td>\n",
       "      <td>0.29</td>\n",
       "      <td>0.45</td>\n",
       "      <td>0.00</td>\n",
       "      <td>0.00</td>\n",
       "      <td>0.00</td>\n",
       "      <td>1.00</td>\n",
       "      <td>1.00</td>\n",
       "    </tr>\n",
       "    <tr>\n",
       "      <th>EstaCiv_cas</th>\n",
       "      <td>41476.00</td>\n",
       "      <td>0.24</td>\n",
       "      <td>0.43</td>\n",
       "      <td>0.00</td>\n",
       "      <td>0.00</td>\n",
       "      <td>0.00</td>\n",
       "      <td>0.00</td>\n",
       "      <td>1.00</td>\n",
       "    </tr>\n",
       "    <tr>\n",
       "      <th>EstaCiv_con</th>\n",
       "      <td>41476.00</td>\n",
       "      <td>0.05</td>\n",
       "      <td>0.22</td>\n",
       "      <td>0.00</td>\n",
       "      <td>0.00</td>\n",
       "      <td>0.00</td>\n",
       "      <td>0.00</td>\n",
       "      <td>1.00</td>\n",
       "    </tr>\n",
       "    <tr>\n",
       "      <th>EstaCiv_div</th>\n",
       "      <td>41476.00</td>\n",
       "      <td>0.01</td>\n",
       "      <td>0.11</td>\n",
       "      <td>0.00</td>\n",
       "      <td>0.00</td>\n",
       "      <td>0.00</td>\n",
       "      <td>0.00</td>\n",
       "      <td>1.00</td>\n",
       "    </tr>\n",
       "    <tr>\n",
       "      <th>EstaCiv_sep</th>\n",
       "      <td>41476.00</td>\n",
       "      <td>0.00</td>\n",
       "      <td>0.04</td>\n",
       "      <td>0.00</td>\n",
       "      <td>0.00</td>\n",
       "      <td>0.00</td>\n",
       "      <td>0.00</td>\n",
       "      <td>1.00</td>\n",
       "    </tr>\n",
       "    <tr>\n",
       "      <th>EstaCiv_sol</th>\n",
       "      <td>41476.00</td>\n",
       "      <td>0.68</td>\n",
       "      <td>0.47</td>\n",
       "      <td>0.00</td>\n",
       "      <td>0.00</td>\n",
       "      <td>1.00</td>\n",
       "      <td>1.00</td>\n",
       "      <td>1.00</td>\n",
       "    </tr>\n",
       "    <tr>\n",
       "      <th>TipoViv_alq</th>\n",
       "      <td>41476.00</td>\n",
       "      <td>0.06</td>\n",
       "      <td>0.23</td>\n",
       "      <td>0.00</td>\n",
       "      <td>0.00</td>\n",
       "      <td>0.00</td>\n",
       "      <td>0.00</td>\n",
       "      <td>1.00</td>\n",
       "    </tr>\n",
       "    <tr>\n",
       "      <th>TipoViv_def</th>\n",
       "      <td>41476.00</td>\n",
       "      <td>0.54</td>\n",
       "      <td>0.50</td>\n",
       "      <td>0.00</td>\n",
       "      <td>0.00</td>\n",
       "      <td>1.00</td>\n",
       "      <td>1.00</td>\n",
       "      <td>1.00</td>\n",
       "    </tr>\n",
       "    <tr>\n",
       "      <th>TipoViv_pro</th>\n",
       "      <td>41476.00</td>\n",
       "      <td>0.40</td>\n",
       "      <td>0.49</td>\n",
       "      <td>0.00</td>\n",
       "      <td>0.00</td>\n",
       "      <td>0.00</td>\n",
       "      <td>1.00</td>\n",
       "      <td>1.00</td>\n",
       "    </tr>\n",
       "  </tbody>\n",
       "</table>\n",
       "</div>"
      ],
      "text/plain": [
       "                   count              mean           std               min  \\\n",
       "CodCli          41476.00  1090409967312.84  605335003.27  1090100000043.00   \n",
       "Edad            41476.00             45.69         13.86             19.00   \n",
       "Sexo            41476.00              0.34          0.48              0.00   \n",
       "CantCred        41476.00              1.17          0.61              1.00   \n",
       "Desem           41476.00           1123.19       2722.68             45.82   \n",
       "SalVigSol       41476.00            922.88       2640.00              0.00   \n",
       "Monto_Tasación  41476.00           1366.64       3242.19             52.92   \n",
       "DiasEfec        41476.00            581.93        719.02              1.00   \n",
       "MaxDeuda        41476.00           1341.52       1964.35             50.00   \n",
       "MaxDiasAtra     41476.00             17.92         16.58              0.00   \n",
       "MaxGramOro      41476.00              9.72         20.80              0.58   \n",
       "FechAnalisis    41476.00    13684908555.04  119415309.12    13400035200.00   \n",
       "AntiDias        41476.00           1013.03       1357.92              0.00   \n",
       "FlagAdj         41476.00              0.29          0.45              0.00   \n",
       "EstaCiv_cas     41476.00              0.24          0.43              0.00   \n",
       "EstaCiv_con     41476.00              0.05          0.22              0.00   \n",
       "EstaCiv_div     41476.00              0.01          0.11              0.00   \n",
       "EstaCiv_sep     41476.00              0.00          0.04              0.00   \n",
       "EstaCiv_sol     41476.00              0.68          0.47              0.00   \n",
       "TipoViv_alq     41476.00              0.06          0.23              0.00   \n",
       "TipoViv_def     41476.00              0.54          0.50              0.00   \n",
       "TipoViv_pro     41476.00              0.40          0.49              0.00   \n",
       "\n",
       "                             25%               50%               75%  \\\n",
       "CodCli          1090100547649.50  1090101354302.50  1090400188968.25   \n",
       "Edad                       35.00             44.00             55.00   \n",
       "Sexo                        0.00              0.00              1.00   \n",
       "CantCred                    1.00              1.00              1.00   \n",
       "Desem                     323.63            600.00           1190.05   \n",
       "SalVigSol                 229.50            450.67            954.35   \n",
       "Monto_Tasación            398.75            736.60           1448.96   \n",
       "DiasEfec                  105.00            302.00            770.00   \n",
       "MaxDeuda                  400.00            770.00           1500.07   \n",
       "MaxDiasAtra                 7.00             16.00             25.00   \n",
       "MaxGramOro                  3.10              5.57             10.50   \n",
       "FechAnalisis      13598236800.00    13729564800.00    13797129600.00   \n",
       "AntiDias                  107.00            294.00           1478.25   \n",
       "FlagAdj                     0.00              0.00              1.00   \n",
       "EstaCiv_cas                 0.00              0.00              0.00   \n",
       "EstaCiv_con                 0.00              0.00              0.00   \n",
       "EstaCiv_div                 0.00              0.00              0.00   \n",
       "EstaCiv_sep                 0.00              0.00              0.00   \n",
       "EstaCiv_sol                 0.00              1.00              1.00   \n",
       "TipoViv_alq                 0.00              0.00              0.00   \n",
       "TipoViv_def                 0.00              1.00              1.00   \n",
       "TipoViv_pro                 0.00              0.00              1.00   \n",
       "\n",
       "                             max  \n",
       "CodCli          1094200000159.00  \n",
       "Edad                      121.00  \n",
       "Sexo                        1.00  \n",
       "CantCred                   22.00  \n",
       "Desem                  307134.24  \n",
       "SalVigSol              307134.24  \n",
       "Monto_Tasación         361334.40  \n",
       "DiasEfec                 4822.00  \n",
       "MaxDeuda                60120.50  \n",
       "MaxDiasAtra               484.00  \n",
       "MaxGramOro               2258.34  \n",
       "FechAnalisis      13800326400.00  \n",
       "AntiDias                 4767.00  \n",
       "FlagAdj                     1.00  \n",
       "EstaCiv_cas                 1.00  \n",
       "EstaCiv_con                 1.00  \n",
       "EstaCiv_div                 1.00  \n",
       "EstaCiv_sep                 1.00  \n",
       "EstaCiv_sol                 1.00  \n",
       "TipoViv_alq                 1.00  \n",
       "TipoViv_def                 1.00  \n",
       "TipoViv_pro                 1.00  "
      ]
     },
     "execution_count": 35,
     "metadata": {},
     "output_type": "execute_result"
    }
   ],
   "source": [
    "data_last.describe().T.apply(lambda s: s.apply('{0:.2f}'.format))  ## describe las variables"
   ]
  },
  {
   "cell_type": "markdown",
   "id": "ee94cb30",
   "metadata": {},
   "source": [
    "## 3. Modelamiento de los datos"
   ]
  },
  {
   "cell_type": "markdown",
   "id": "98bf2c36",
   "metadata": {},
   "source": [
    "### **Trabajando las variables para modelar**"
   ]
  },
  {
   "cell_type": "markdown",
   "id": "ae684301",
   "metadata": {},
   "source": [
    "    *Dado que se aplicara un modelo de Machine Learning. Se deberan de partir la data en dos grupos.*\n",
    " \n",
    "        - Grupo 1: Data de entrenamiento (Train) ----> 70%\n",
    "        - Grupo 2: Data de prueba (test) ----> 30%\n",
    "        \n",
    "  ![Imagene](Train_test.jpg)\n"
   ]
  },
  {
   "cell_type": "code",
   "execution_count": 36,
   "id": "cbc3d798",
   "metadata": {},
   "outputs": [],
   "source": [
    "# Grupo 1: Data de entrenamiento (Train)\n",
    "# Grupo 2: Data de prueba (test)\n",
    "\n",
    "from sklearn.model_selection import train_test_split  #Nos permite partir la data"
   ]
  },
  {
   "cell_type": "code",
   "execution_count": 37,
   "id": "df364f4e",
   "metadata": {},
   "outputs": [],
   "source": [
    "#Elimino las variables que no sirven para el modelo\n",
    "# Definimos el \"x\" e \"y\"\n",
    "y=data_last['FlagAdj'] \n",
    "X=data_last.drop(['FlagAdj','t_Periodo','CodCli','FechAnalisis'],axis=1) "
   ]
  },
  {
   "cell_type": "code",
   "execution_count": 38,
   "id": "43eaf45f",
   "metadata": {},
   "outputs": [
    {
     "name": "stdout",
     "output_type": "stream",
     "text": [
      "<class 'pandas.core.frame.DataFrame'>\n",
      "Int64Index: 41476 entries, 6 to 961980\n",
      "Data columns (total 19 columns):\n",
      " #   Column          Non-Null Count  Dtype  \n",
      "---  ------          --------------  -----  \n",
      " 0   Edad            41476 non-null  float64\n",
      " 1   Sexo            41476 non-null  float64\n",
      " 2   CantCred        41476 non-null  float64\n",
      " 3   Desem           41476 non-null  float64\n",
      " 4   SalVigSol       41476 non-null  float64\n",
      " 5   Monto_Tasación  41476 non-null  float64\n",
      " 6   DiasEfec        41476 non-null  float64\n",
      " 7   MaxDeuda        41476 non-null  float64\n",
      " 8   MaxDiasAtra     41476 non-null  float64\n",
      " 9   MaxGramOro      41476 non-null  float64\n",
      " 10  AntiDias        41476 non-null  float64\n",
      " 11  EstaCiv_cas     41476 non-null  float64\n",
      " 12  EstaCiv_con     41476 non-null  float64\n",
      " 13  EstaCiv_div     41476 non-null  float64\n",
      " 14  EstaCiv_sep     41476 non-null  float64\n",
      " 15  EstaCiv_sol     41476 non-null  float64\n",
      " 16  TipoViv_alq     41476 non-null  float64\n",
      " 17  TipoViv_def     41476 non-null  float64\n",
      " 18  TipoViv_pro     41476 non-null  float64\n",
      "dtypes: float64(19)\n",
      "memory usage: 6.3 MB\n"
     ]
    }
   ],
   "source": [
    "X.info()\n",
    "#data_last.head()"
   ]
  },
  {
   "cell_type": "code",
   "execution_count": 39,
   "id": "3a45e2d2",
   "metadata": {},
   "outputs": [],
   "source": [
    "# Partiendo la data en Train y Test.\n",
    "X_train, X_test, y_train, y_test = train_test_split(X,y, test_size=0.30,random_state=101,stratify=y)"
   ]
  },
  {
   "cell_type": "markdown",
   "id": "6af21ab6",
   "metadata": {},
   "source": [
    "Lugo de contar con los datos que serviran de \"Train\" y los datos de \"Test\", es importante indentifcar cuales son las variables más importantes para el modelo. ESto se puede realizar con \"RandomForestClassifier\"\n",
    "\n",
    "**Es importante indicar que dado que se cuenta con una pqueña cantidad de variables (aprxo 20), se realizará la clasificación de las variables de acuerdo a su importancia, sin embargo se consideraran todas las varaibles del modelo.**\n",
    "\n",
    "- **Identificación de la importancia de las variables**\n"
   ]
  },
  {
   "cell_type": "code",
   "execution_count": 40,
   "id": "180791af",
   "metadata": {},
   "outputs": [],
   "source": [
    "#pip install --user imblearn"
   ]
  },
  {
   "cell_type": "code",
   "execution_count": 41,
   "id": "82bde7e7",
   "metadata": {},
   "outputs": [],
   "source": [
    "#pip install sklearn"
   ]
  },
  {
   "cell_type": "code",
   "execution_count": 42,
   "id": "b8e36ee8",
   "metadata": {},
   "outputs": [],
   "source": [
    "from imblearn.over_sampling import SMOTE\n",
    "os = SMOTE(random_state = 0)"
   ]
  },
  {
   "cell_type": "code",
   "execution_count": 43,
   "id": "f27d3ded",
   "metadata": {},
   "outputs": [],
   "source": [
    "#Balanceando la data entrenamiento\n",
    "os_data_X, os_data_y = os.fit_resample(X_train.values, y_train.values)"
   ]
  },
  {
   "cell_type": "code",
   "execution_count": 44,
   "id": "7997d043",
   "metadata": {
    "scrolled": true
   },
   "outputs": [
    {
     "name": "stdout",
     "output_type": "stream",
     "text": [
      "Counter({1.0: 20665, 0.0: 20665})\n"
     ]
    }
   ],
   "source": [
    "from collections import Counter\n",
    "counter = Counter(os_data_y)\n",
    "print(counter)"
   ]
  },
  {
   "cell_type": "code",
   "execution_count": 45,
   "id": "e307d34f",
   "metadata": {},
   "outputs": [
    {
     "data": {
      "text/html": [
       "<div>\n",
       "<style scoped>\n",
       "    .dataframe tbody tr th:only-of-type {\n",
       "        vertical-align: middle;\n",
       "    }\n",
       "\n",
       "    .dataframe tbody tr th {\n",
       "        vertical-align: top;\n",
       "    }\n",
       "\n",
       "    .dataframe thead th {\n",
       "        text-align: right;\n",
       "    }\n",
       "</style>\n",
       "<table border=\"1\" class=\"dataframe\">\n",
       "  <thead>\n",
       "    <tr style=\"text-align: right;\">\n",
       "      <th></th>\n",
       "      <th>Variables</th>\n",
       "      <th>Gain</th>\n",
       "    </tr>\n",
       "  </thead>\n",
       "  <tbody>\n",
       "    <tr>\n",
       "      <th>10</th>\n",
       "      <td>AntiDias</td>\n",
       "      <td>0.690335</td>\n",
       "    </tr>\n",
       "    <tr>\n",
       "      <th>6</th>\n",
       "      <td>DiasEfec</td>\n",
       "      <td>0.061291</td>\n",
       "    </tr>\n",
       "    <tr>\n",
       "      <th>18</th>\n",
       "      <td>TipoViv_pro</td>\n",
       "      <td>0.032797</td>\n",
       "    </tr>\n",
       "    <tr>\n",
       "      <th>4</th>\n",
       "      <td>SalVigSol</td>\n",
       "      <td>0.031966</td>\n",
       "    </tr>\n",
       "    <tr>\n",
       "      <th>17</th>\n",
       "      <td>TipoViv_def</td>\n",
       "      <td>0.030026</td>\n",
       "    </tr>\n",
       "    <tr>\n",
       "      <th>1</th>\n",
       "      <td>Sexo</td>\n",
       "      <td>0.020569</td>\n",
       "    </tr>\n",
       "    <tr>\n",
       "      <th>15</th>\n",
       "      <td>EstaCiv_sol</td>\n",
       "      <td>0.019995</td>\n",
       "    </tr>\n",
       "    <tr>\n",
       "      <th>11</th>\n",
       "      <td>EstaCiv_cas</td>\n",
       "      <td>0.018154</td>\n",
       "    </tr>\n",
       "    <tr>\n",
       "      <th>7</th>\n",
       "      <td>MaxDeuda</td>\n",
       "      <td>0.017099</td>\n",
       "    </tr>\n",
       "    <tr>\n",
       "      <th>5</th>\n",
       "      <td>Monto_Tasación</td>\n",
       "      <td>0.014820</td>\n",
       "    </tr>\n",
       "    <tr>\n",
       "      <th>0</th>\n",
       "      <td>Edad</td>\n",
       "      <td>0.013373</td>\n",
       "    </tr>\n",
       "    <tr>\n",
       "      <th>3</th>\n",
       "      <td>Desem</td>\n",
       "      <td>0.013301</td>\n",
       "    </tr>\n",
       "    <tr>\n",
       "      <th>9</th>\n",
       "      <td>MaxGramOro</td>\n",
       "      <td>0.013101</td>\n",
       "    </tr>\n",
       "    <tr>\n",
       "      <th>8</th>\n",
       "      <td>MaxDiasAtra</td>\n",
       "      <td>0.012089</td>\n",
       "    </tr>\n",
       "    <tr>\n",
       "      <th>16</th>\n",
       "      <td>TipoViv_alq</td>\n",
       "      <td>0.004433</td>\n",
       "    </tr>\n",
       "    <tr>\n",
       "      <th>2</th>\n",
       "      <td>CantCred</td>\n",
       "      <td>0.003342</td>\n",
       "    </tr>\n",
       "    <tr>\n",
       "      <th>12</th>\n",
       "      <td>EstaCiv_con</td>\n",
       "      <td>0.002911</td>\n",
       "    </tr>\n",
       "    <tr>\n",
       "      <th>13</th>\n",
       "      <td>EstaCiv_div</td>\n",
       "      <td>0.000235</td>\n",
       "    </tr>\n",
       "    <tr>\n",
       "      <th>14</th>\n",
       "      <td>EstaCiv_sep</td>\n",
       "      <td>0.000163</td>\n",
       "    </tr>\n",
       "  </tbody>\n",
       "</table>\n",
       "</div>"
      ],
      "text/plain": [
       "         Variables      Gain\n",
       "10        AntiDias  0.690335\n",
       "6         DiasEfec  0.061291\n",
       "18     TipoViv_pro  0.032797\n",
       "4        SalVigSol  0.031966\n",
       "17     TipoViv_def  0.030026\n",
       "1             Sexo  0.020569\n",
       "15     EstaCiv_sol  0.019995\n",
       "11     EstaCiv_cas  0.018154\n",
       "7         MaxDeuda  0.017099\n",
       "5   Monto_Tasación  0.014820\n",
       "0             Edad  0.013373\n",
       "3            Desem  0.013301\n",
       "9       MaxGramOro  0.013101\n",
       "8      MaxDiasAtra  0.012089\n",
       "16     TipoViv_alq  0.004433\n",
       "2         CantCred  0.003342\n",
       "12     EstaCiv_con  0.002911\n",
       "13     EstaCiv_div  0.000235\n",
       "14     EstaCiv_sep  0.000163"
      ]
     },
     "execution_count": 45,
     "metadata": {},
     "output_type": "execute_result"
    }
   ],
   "source": [
    "# Libreria:\n",
    "from sklearn.ensemble import RandomForestClassifier\n",
    "\n",
    "### Entreno un modelo de Random Forest con 200 arboles y una semilla aleatoria 123\n",
    "rf_clf = RandomForestClassifier(n_estimators=200,random_state =123)\n",
    "# Entreno el modelo con el .fit\n",
    "rf_clf.fit(os_data_X,os_data_y.ravel())\n",
    "\n",
    "## ordenando las mejores variables de mayor a menor generando un bucle en este caso un for para\n",
    "## extraer los nombres de las columnas y la ganancia(Gain) de las variables más impactantes.\n",
    "\n",
    "features = []\n",
    "for feature in zip(X.columns, rf_clf.feature_importances_):\n",
    "    features.append(feature)\n",
    "\n",
    "## Genero un dataframe para visualizar mejor lo que hizo random forest con su selector multivariado\n",
    "features_total = pd.DataFrame(features,columns=['Variables','Gain']).sort_values('Gain', ascending=False)\n",
    "features_total"
   ]
  },
  {
   "cell_type": "markdown",
   "id": "771491e6",
   "metadata": {},
   "source": [
    "- **Selección de variables más importantes**"
   ]
  },
  {
   "cell_type": "code",
   "execution_count": 46,
   "id": "e1a1ff73",
   "metadata": {},
   "outputs": [
    {
     "data": {
      "text/plain": [
       "['Edad',\n",
       " 'Desem',\n",
       " 'SalVigSol',\n",
       " 'Monto_Tasación',\n",
       " 'DiasEfec',\n",
       " 'MaxDeuda',\n",
       " 'MaxDiasAtra',\n",
       " 'MaxGramOro',\n",
       " 'AntiDias']"
      ]
     },
     "execution_count": 46,
     "metadata": {},
     "output_type": "execute_result"
    }
   ],
   "source": [
    "## Uso SelectFromModel poniendo los parametros del modelo que se contruyo y un threshold que es un punto de corte que\n",
    "## puede asumir de acuerdo a tu criterio con respecto a las variables que estén generando mas Gain\n",
    "#######################################################################################################################\n",
    "\n",
    "# Libreria:\n",
    "from sklearn.feature_selection import SelectFromModel #seleción de variables\n",
    "\n",
    "sfm = SelectFromModel(rf_clf, threshold=0.008)\n",
    "\n",
    "# entrenamiento del selector\n",
    "sfm.fit(X, y)\n",
    "\n",
    "# contruyo una lista para quedarme con las mejores variables\n",
    "variables = []\n",
    "for feature_list_index in sfm.get_support(indices=True):\n",
    "    variables.append(X.columns[feature_list_index])\n",
    "    #variables\n",
    "    \n",
    "#features_total\n",
    "variables #Variables mas importantes para el modelo\n"
   ]
  },
  {
   "cell_type": "code",
   "execution_count": 47,
   "id": "2ae5d325",
   "metadata": {},
   "outputs": [],
   "source": [
    "# Según lo realizado anteriormente, elegiríamos un conjunto de variables. sin embargo, dado que son pocas variables\n",
    "# en analisis, usaremos todas las varibles.\n",
    "\n",
    "## Usando la mejor selección de variables\n",
    "\n",
    "best_X_train=pd.DataFrame(os_data_X,columns = [\"Edad\",\"Sexo\",\"CantCred\",\"Desem\",\"SalVigSol\",\"Monto_Tasación\",\"DiasEfec\",\"MaxDeuda\",\"MaxDiasAtra\",\n",
    "\"MaxGramOro\",\"AntiDias\",\"EstaCiv_cas\",\"EstaCiv_con\",\"EstaCiv_div\",\"EstaCiv_sep\",\"EstaCiv_sol\",\"TipoViv_alq\",\"TipoViv_def\",\"TipoViv_pro\"] )[variables]\n",
    "best_X_test = X_test[variables]"
   ]
  },
  {
   "cell_type": "code",
   "execution_count": 48,
   "id": "48afb56e",
   "metadata": {},
   "outputs": [
    {
     "data": {
      "text/plain": [
       "(41330, 9)"
      ]
     },
     "execution_count": 48,
     "metadata": {},
     "output_type": "execute_result"
    }
   ],
   "source": [
    "# Ver la cantidad de variables\n",
    "best_X_train.shape"
   ]
  },
  {
   "cell_type": "markdown",
   "id": "dc76b4ec",
   "metadata": {},
   "source": [
    "### 3.1 Modelo 1 para objetivo 2: Controlar la mora, a través de la adjudicación de la joya y el entendimiento de sus clientes, mediante una solución analítica."
   ]
  },
  {
   "cell_type": "markdown",
   "id": "20535c51",
   "metadata": {},
   "source": [
    "#### A. Modelo de Light GBM\n",
    "\n",
    "A continuación se aplicara el modelo **\"Light GBM\"**\n",
    "\n",
    "Este Light Gradient Boosting Machine (LGBM) es un modelo de entrenamiento automatico, que es un marco que implementa el algoritmo Gradient Boosting Decision Tree (GBDT), admite un entrenamiento paralelo eficiente y tiene las siguientes ventajas:\n",
    "\n",
    "    - Mayor velocidad de entrenamiento.\n",
    "    - Menor consumo de memoria.\n",
    "    - Mejor precisión.\n",
    "    - Soporte distribuido para el procesamiento rápido de datos masivos.\n",
    "\n",
    "![Imagen](https://datascience.eu/wp-content/uploads/2019/12/Screenshot-2020-10-21-at-18.12.57.png)\n"
   ]
  },
  {
   "cell_type": "code",
   "execution_count": 49,
   "id": "152e63e8",
   "metadata": {},
   "outputs": [],
   "source": [
    "#pip install lightgbm"
   ]
  },
  {
   "cell_type": "code",
   "execution_count": 50,
   "id": "a4812617",
   "metadata": {},
   "outputs": [],
   "source": [
    "# Librerias:\n",
    "from time import time\n",
    "from lightgbm import LGBMClassifier\n",
    "from sklearn.metrics import accuracy_score\n",
    "from sklearn.metrics import roc_auc_score\n"
   ]
  },
  {
   "cell_type": "markdown",
   "id": "6d299d59",
   "metadata": {},
   "source": [
    "**- Modelo con las mejores variables:**"
   ]
  },
  {
   "cell_type": "code",
   "execution_count": 51,
   "id": "acea1525",
   "metadata": {},
   "outputs": [
    {
     "name": "stdout",
     "output_type": "stream",
     "text": [
      "auc o Roc on training in LGBMClassifier data : 0.999\n",
      "auc o Roc on testing in LGBMClassifier data : 0.995\n"
     ]
    }
   ],
   "source": [
    "# construimos un lightgbm, ojo que para elY es el mismo porque es un vector univariado\n",
    "best_model_1 = LGBMClassifier()\n",
    "best_model_1.fit(best_X_train, os_data_y)\n",
    "\n",
    "# predecimos el train y test con la probabilidad para validar luego\n",
    "predict_train_lg_1 = best_model_1.predict_proba(best_X_train)[:,1]\n",
    "predict_test_lg_1= best_model_1.predict_proba(best_X_test)[:,1]\n",
    "\n",
    "# Imprimimos el roc de train y test con la data real y la prediccion de la probabilidad del modelo\n",
    "# Con esto veremos la estabilidad del modelo.\n",
    "print(\"auc o Roc on training in LGBMClassifier data : {:.3f}\".format(roc_auc_score(os_data_y, predict_train_lg_1)))\n",
    "print(\"auc o Roc on testing in LGBMClassifier data : {:.3f}\".format(roc_auc_score(y_test, predict_test_lg_1)))\n"
   ]
  },
  {
   "cell_type": "markdown",
   "id": "959c80a3",
   "metadata": {},
   "source": [
    "**- Modelo con las variables que elegí manualmente (todas las variables):**"
   ]
  },
  {
   "cell_type": "code",
   "execution_count": 52,
   "id": "8a626331",
   "metadata": {},
   "outputs": [
    {
     "name": "stdout",
     "output_type": "stream",
     "text": [
      "auc o Roc on training in LGBMClassifier data : 0.999\n",
      "auc o Roc on testing in LGBMClassifier data : 0.995\n"
     ]
    }
   ],
   "source": [
    "# construimos un lightgbm, ojo que para elY es el mismo porque es un vector univariado\n",
    "best_model_2 = LGBMClassifier()\n",
    "best_model_2.fit(os_data_X, os_data_y)\n",
    "\n",
    "# predecimos el train y test con la probabilidad para validar luego\n",
    "predict_train_lg_2 = best_model_2.predict_proba(os_data_X)[:,1]\n",
    "predict_test_lg_2= best_model_2.predict_proba(X_test)[:,1]\n",
    "\n",
    "# Imprimimos el roc de train y test con la data real y la prediccion de la probabilidad del modelo\n",
    "# Con esto veremos la estabilidad del modelo.\n",
    "print(\"auc o Roc on training in LGBMClassifier data : {:.3f}\".format(roc_auc_score(os_data_y, predict_train_lg_2)))\n",
    "print(\"auc o Roc on testing in LGBMClassifier data : {:.3f}\".format(roc_auc_score(y_test, predict_test_lg_2)))\n"
   ]
  },
  {
   "cell_type": "markdown",
   "id": "bb25e810",
   "metadata": {},
   "source": [
    "Debido a que observamos que considerando toda las variables obtenemos un mejor performance, entonces trabajaremos con todas las variables del modelo.\n",
    "\n",
    "**A continuación se realizará una optimización de los parametros del modelo \"ligthGBMl\", con el fin de ganar una mayor precición del modelo. Esto a través de \"Grid Search with Cross Validation\".** "
   ]
  },
  {
   "cell_type": "code",
   "execution_count": 53,
   "id": "96b6f002",
   "metadata": {},
   "outputs": [
    {
     "name": "stdout",
     "output_type": "stream",
     "text": [
      "Parameters currently in use:\n",
      "\n",
      "{'boosting_type': 'gbdt',\n",
      " 'class_weight': None,\n",
      " 'colsample_bytree': 1.0,\n",
      " 'importance_type': 'split',\n",
      " 'learning_rate': 0.1,\n",
      " 'max_depth': -1,\n",
      " 'min_child_samples': 20,\n",
      " 'min_child_weight': 0.001,\n",
      " 'min_split_gain': 0.0,\n",
      " 'n_estimators': 100,\n",
      " 'n_jobs': -1,\n",
      " 'num_leaves': 31,\n",
      " 'objective': None,\n",
      " 'random_state': None,\n",
      " 'reg_alpha': 0.0,\n",
      " 'reg_lambda': 0.0,\n",
      " 'silent': 'warn',\n",
      " 'subsample': 1.0,\n",
      " 'subsample_for_bin': 200000,\n",
      " 'subsample_freq': 0}\n"
     ]
    }
   ],
   "source": [
    "from pprint import pprint\n",
    "\n",
    "# Mostramos todos los parametros que tiene ligthGBMl o usamos porque es más rápido para tunear el modelo\n",
    "print('Parameters currently in use:\\n')\n",
    "pprint(best_model_2.get_params())"
   ]
  },
  {
   "cell_type": "markdown",
   "id": "c0959bb3",
   "metadata": {},
   "source": [
    "**-Grid Search with Cross Validation**"
   ]
  },
  {
   "cell_type": "code",
   "execution_count": 54,
   "id": "d22134e2",
   "metadata": {},
   "outputs": [
    {
     "name": "stdout",
     "output_type": "stream",
     "text": [
      "{'colsample_bytree': [0.7, 0.8, 0.9],\n",
      " 'iterations': [300, 400, 500],\n",
      " 'learning_rate': [0.1, 0.15, 0.2],\n",
      " 'max_depth': [4, 6, 8]}\n"
     ]
    }
   ],
   "source": [
    "#Esto nos permitira eligir los mejores Hiperparametros del modelo.\n",
    "\n",
    "\n",
    "# Numero de arboles\n",
    "iterations = [300, 400, 500]\n",
    "# porcentaje de variables con la que se contruye un arbol\n",
    "colsample_bytree = [0.7, 0.8, 0.9]\n",
    "# profundidad del arbol\n",
    "max_depth = [4, 6, 8]\n",
    "# ratio de aprendizaje por cada arbol\n",
    "learning_rate = [0.1, 0.15 ,0.2]\n",
    "# creacion del grip search o grilla generando un diccionario\n",
    "param_grid = {'iterations': iterations,\n",
    "              'colsample_bytree': colsample_bytree,\n",
    "              'max_depth': max_depth,\n",
    "              'learning_rate': learning_rate}\n",
    "pprint(param_grid)\n"
   ]
  },
  {
   "cell_type": "code",
   "execution_count": 55,
   "id": "896d20a6",
   "metadata": {},
   "outputs": [],
   "source": [
    "from sklearn.model_selection import RandomizedSearchCV\n",
    "from sklearn.model_selection import GridSearchCV #optimización de parámetros con validación cruzada\n",
    "import seaborn as sns # visualization"
   ]
  },
  {
   "cell_type": "code",
   "execution_count": 56,
   "id": "0d874213",
   "metadata": {},
   "outputs": [
    {
     "name": "stdout",
     "output_type": "stream",
     "text": [
      "Fitting 5 folds for each of 81 candidates, totalling 405 fits\n",
      "[LightGBM] [Warning] Unknown parameter: iterations\n"
     ]
    },
    {
     "data": {
      "text/plain": [
       "{'colsample_bytree': 0.9,\n",
       " 'iterations': 300,\n",
       " 'learning_rate': 0.2,\n",
       " 'max_depth': 4}"
      ]
     },
     "execution_count": 56,
     "metadata": {},
     "output_type": "execute_result"
    }
   ],
   "source": [
    "lgb = LGBMClassifier()\n",
    "\n",
    "# Isntacia del grip search ponemos la grilla , la cantidad de kfolds para la validacion cruzada en este caso 5\n",
    "# n_jobs -1 para la paralelizacion de la ejecucion en la optimizacion del modelo y verbose para mostrar de 2 en 2 los resultados\n",
    "grid_search = GridSearchCV(estimator = lgb, param_grid = param_grid, cv = 5,n_jobs = -1, verbose = 2)\n",
    "\n",
    "# FIT para ejecutarlo\n",
    "#X_best = X[variables] ## recordar que se usa toda la data completa y con las mejores variables\n",
    "X_best = X\n",
    "\n",
    "grid_search.fit(X_best, y)\n",
    "grid_search.best_params_ # mostramos los mejores hiperparametros"
   ]
  },
  {
   "cell_type": "code",
   "execution_count": 57,
   "id": "b935bef9",
   "metadata": {},
   "outputs": [],
   "source": [
    "## Evaluación\n",
    "#************************\n",
    "\n",
    "# Genero una funcion para validar la mejora de la curva ROC o auc para ver como aumenta el performance de mi modelo\n",
    "def evaluate(model, test_features, test_labels):\n",
    "    predictions = model.predict_proba(test_features)[:,1] ## recordar que para validar el roc se necesita el dato real y\n",
    "    roc = roc_auc_score(test_labels,predictions) ## probabilidad de la prediccion\n",
    "    print('Model Performance')\n",
    "    print('roc_auc_score = {:.12g}%.'.format(roc))\n",
    "    return roc\n"
   ]
  },
  {
   "cell_type": "code",
   "execution_count": 58,
   "id": "350ecbd2",
   "metadata": {
    "scrolled": true
   },
   "outputs": [
    {
     "name": "stdout",
     "output_type": "stream",
     "text": [
      "Model Performance\n",
      "roc_auc_score = 0.995195647822%.\n",
      "Model Performance\n",
      "roc_auc_score = 0.997846114262%.\n",
      "Mejora en 0.266326168724%.\n"
     ]
    }
   ],
   "source": [
    "base_model = LGBMClassifier()\n",
    "base_model.fit(os_data_X, os_data_y)\n",
    "base_roc = evaluate(base_model, X_test, y_test)\n",
    "\n",
    "## pasamos la funcion evaluate para sacar el resultado del modelo\n",
    "best_grid = grid_search.best_estimator_\n",
    "grid_roc = evaluate(best_grid, X_test, y_test)\n",
    "\n",
    "print('Mejora en {:.12g}%.'.format( 100 * (grid_roc - base_roc) / base_roc)) ## le damos diseño para imprimir con .format\n",
    "## podemos visualizar el aumento o las mejora en 1.59874222524%"
   ]
  },
  {
   "cell_type": "code",
   "execution_count": 59,
   "id": "8a6d87e1",
   "metadata": {},
   "outputs": [
    {
     "data": {
      "text/plain": [
       "0.9951956478221449"
      ]
     },
     "execution_count": 59,
     "metadata": {},
     "output_type": "execute_result"
    }
   ],
   "source": [
    "base_roc"
   ]
  },
  {
   "cell_type": "code",
   "execution_count": 60,
   "id": "2e63e046",
   "metadata": {},
   "outputs": [
    {
     "data": {
      "text/plain": [
       "0.9978461142623003"
      ]
     },
     "execution_count": 60,
     "metadata": {},
     "output_type": "execute_result"
    }
   ],
   "source": [
    "grid_roc"
   ]
  },
  {
   "cell_type": "markdown",
   "id": "92b38248",
   "metadata": {},
   "source": [
    "### 3.2 Modelo 2 para objetivo 2: Controlar la mora, a través de la adjudicación de la joya y el entendimiento de sus clientes, mediante una solución analítica."
   ]
  },
  {
   "cell_type": "markdown",
   "id": "5e0ba73f",
   "metadata": {},
   "source": [
    "#### B. Modelo de Random Forest\n",
    "\n",
    "Los Random Forest, son bosques de decision aleatoria formados por un conjunto de árboles de decesión. Estos bosques, se forman mediante un algoritmo que introduce una aleatoriedad para reducir la correlación entre los árboles. Una vez construido el bosque, se utilizará para realizar la predicción.\n",
    "\n",
    "![Imagen](https://www.freecodecamp.org/news/content/images/2020/08/how-random-forest-classifier-work.PNG)"
   ]
  },
  {
   "cell_type": "markdown",
   "id": "ddece36e",
   "metadata": {},
   "source": [
    "- El primer paso para aplicar el modelo es balancear la data"
   ]
  },
  {
   "cell_type": "code",
   "execution_count": 61,
   "id": "0470f5c2",
   "metadata": {},
   "outputs": [
    {
     "name": "stdout",
     "output_type": "stream",
     "text": [
      "Counter({1.0: 20665, 0.0: 20665})\n"
     ]
    }
   ],
   "source": [
    "# cantidad de datos en el os_data_y:\n",
    "from collections import Counter\n",
    "counter = Counter(os_data_y)\n",
    "print(counter)"
   ]
  },
  {
   "cell_type": "code",
   "execution_count": 62,
   "id": "2634902b",
   "metadata": {},
   "outputs": [
    {
     "data": {
      "text/plain": [
       "RandomForestClassifier(min_samples_split=100, n_estimators=500, n_jobs=1)"
      ]
     },
     "execution_count": 62,
     "metadata": {},
     "output_type": "execute_result"
    }
   ],
   "source": [
    "# Modelo de Random forest balanceado\n",
    "#***********************************\n",
    "\n",
    "from sklearn.ensemble import RandomForestClassifier\n",
    "\n",
    "rfc = RandomForestClassifier(bootstrap=True, class_weight=None, \n",
    "                             criterion='gini',\n",
    "                             max_depth=None, max_features='auto', max_leaf_nodes=None,\n",
    "                             min_samples_leaf=1, min_samples_split=100,\n",
    "                             min_weight_fraction_leaf=0.0, n_estimators=500, n_jobs=1,\n",
    "                             oob_score=False, random_state=None, verbose=0,\n",
    "                             warm_start=False)\n",
    "\n",
    "# Modelo en data balanceada:\n",
    "rfc.fit(os_data_X,os_data_y)"
   ]
  },
  {
   "cell_type": "code",
   "execution_count": 63,
   "id": "4c14211e",
   "metadata": {},
   "outputs": [
    {
     "name": "stderr",
     "output_type": "stream",
     "text": [
      "C:\\Users\\Mauro\\AppData\\Roaming\\Python\\Python38\\site-packages\\sklearn\\base.py:443: UserWarning: X has feature names, but RandomForestClassifier was fitted without feature names\n",
      "  warnings.warn(\n"
     ]
    },
    {
     "name": "stdout",
     "output_type": "stream",
     "text": [
      "auc o Roc on training in RFC data : 0.978\n",
      "auc o Roc on testing in RFC data : 0.961\n"
     ]
    }
   ],
   "source": [
    "#Pobando el modelo de Random Forest en data real y mostramos los ratios de estabilidad del modelo:\n",
    "#**************************************************************************************************\n",
    "\n",
    "from sklearn.metrics import roc_auc_score\n",
    "\n",
    "#predictionsrfc = rfc.predict(X_test)\n",
    "\n",
    "predictionsrfc_train=rfc.predict(os_data_X)\n",
    "predictionsrfc_test=rfc.predict(X_test)\n",
    "\n",
    "#print(roc_auc_score(y_test,predictionsrfc))\n",
    "\n",
    "print(\"auc o Roc on training in RFC data : {:.3f}\".format(roc_auc_score(os_data_y, predictionsrfc_train)))\n",
    "print(\"auc o Roc on testing in RFC data : {:.3f}\".format(roc_auc_score(y_test, predictionsrfc_test)))"
   ]
  },
  {
   "cell_type": "markdown",
   "id": "7e0bb66b",
   "metadata": {},
   "source": [
    "### 3.3 Modelo 3 para objetivo 2: Controlar la mora, a través de la adjudicación de la joya y el entendimiento de sus clientes, mediante una solución analítica."
   ]
  },
  {
   "cell_type": "markdown",
   "id": "3186e239",
   "metadata": {},
   "source": [
    "### Modelo de regresión binaria con enlace logístico\n",
    "La regresión logística binaria es la técnica estadística que tiene como objetivo comprobar hipótesis o relaciones causales cuando la variable dependiente (resultado) es una variable binaria (dicotómica, dummy), es decir, que tiene solo dos categorías.\n",
    "![Imagen](RL.png)"
   ]
  },
  {
   "cell_type": "code",
   "execution_count": 64,
   "id": "3c34c69b",
   "metadata": {},
   "outputs": [],
   "source": [
    "from sklearn.linear_model import LogisticRegression"
   ]
  },
  {
   "cell_type": "code",
   "execution_count": 65,
   "id": "2329a35d",
   "metadata": {},
   "outputs": [
    {
     "name": "stderr",
     "output_type": "stream",
     "text": [
      "C:\\Users\\Mauro\\AppData\\Roaming\\Python\\Python38\\site-packages\\sklearn\\linear_model\\_logistic.py:814: ConvergenceWarning: lbfgs failed to converge (status=1):\n",
      "STOP: TOTAL NO. of ITERATIONS REACHED LIMIT.\n",
      "\n",
      "Increase the number of iterations (max_iter) or scale the data as shown in:\n",
      "    https://scikit-learn.org/stable/modules/preprocessing.html\n",
      "Please also refer to the documentation for alternative solver options:\n",
      "    https://scikit-learn.org/stable/modules/linear_model.html#logistic-regression\n",
      "  n_iter_i = _check_optimize_result(\n"
     ]
    },
    {
     "data": {
      "text/plain": [
       "LogisticRegression(max_iter=1000)"
      ]
     },
     "execution_count": 65,
     "metadata": {},
     "output_type": "execute_result"
    }
   ],
   "source": [
    "# Creamos la función “logmodel”\n",
    "logmodel = LogisticRegression(C=1.0, class_weight=None, dual=False, fit_intercept=True,\n",
    "intercept_scaling=1, l1_ratio=None, max_iter=1000,\n",
    "multi_class='auto', n_jobs=None, penalty='l2',\n",
    "random_state=None, solver='lbfgs', tol=0.0001, verbose=0,\n",
    "warm_start=False)\n",
    "# Creamos el modelo de RL, ecuación que me va permitir predecir si se adjudica o no la joya\n",
    "logmodel.fit(os_data_X,os_data_y)"
   ]
  },
  {
   "cell_type": "code",
   "execution_count": 66,
   "id": "57a74580",
   "metadata": {},
   "outputs": [
    {
     "name": "stderr",
     "output_type": "stream",
     "text": [
      "C:\\Users\\Mauro\\AppData\\Roaming\\Python\\Python38\\site-packages\\sklearn\\base.py:443: UserWarning: X has feature names, but LogisticRegression was fitted without feature names\n",
      "  warnings.warn(\n"
     ]
    }
   ],
   "source": [
    "# Predicciones sobre X_test\n",
    "predictions = logmodel.predict(X_test)"
   ]
  },
  {
   "cell_type": "code",
   "execution_count": 67,
   "id": "57cc55b1",
   "metadata": {},
   "outputs": [],
   "source": [
    "# Predicciones sobre X_train (balanceado)\n",
    "predictions_train = logmodel.predict(os_data_X)"
   ]
  },
  {
   "cell_type": "markdown",
   "id": "c9d3ea64",
   "metadata": {},
   "source": [
    "### Evaluación del modelo"
   ]
  },
  {
   "cell_type": "code",
   "execution_count": 68,
   "id": "e3715b97",
   "metadata": {},
   "outputs": [],
   "source": [
    "from sklearn.metrics import classification_report"
   ]
  },
  {
   "cell_type": "code",
   "execution_count": 69,
   "id": "b2773d03",
   "metadata": {},
   "outputs": [
    {
     "name": "stdout",
     "output_type": "stream",
     "text": [
      "              precision    recall  f1-score   support\n",
      "\n",
      "         0.0       0.97      0.98      0.98      8857\n",
      "         1.0       0.94      0.94      0.94      3586\n",
      "\n",
      "    accuracy                           0.97     12443\n",
      "   macro avg       0.96      0.96      0.96     12443\n",
      "weighted avg       0.96      0.97      0.96     12443\n",
      "\n"
     ]
    }
   ],
   "source": [
    "# Reporte de clasificación del y_test con la predicción de los X_test\n",
    "print(classification_report(y_test,predictions))"
   ]
  },
  {
   "cell_type": "code",
   "execution_count": 70,
   "id": "41ad8945",
   "metadata": {},
   "outputs": [
    {
     "name": "stdout",
     "output_type": "stream",
     "text": [
      "              precision    recall  f1-score   support\n",
      "\n",
      "         0.0       0.93      0.98      0.95     20665\n",
      "         1.0       0.98      0.92      0.95     20665\n",
      "\n",
      "    accuracy                           0.95     41330\n",
      "   macro avg       0.95      0.95      0.95     41330\n",
      "weighted avg       0.95      0.95      0.95     41330\n",
      "\n"
     ]
    }
   ],
   "source": [
    "# Reporte de clasificación del y_train (balanceado) con la predicción de los X_train (balanceado)\n",
    "print(classification_report(os_data_y,predictions_train))"
   ]
  },
  {
   "cell_type": "markdown",
   "id": "5e8ca987",
   "metadata": {},
   "source": [
    "### 3.4 Modelo 4 para objetivo 2: Controlar la mora, a través de la adjudicación de la joya y el entendimiento de sus clientes, mediante una solución analítica."
   ]
  },
  {
   "cell_type": "markdown",
   "id": "1d0a936a",
   "metadata": {},
   "source": [
    "### Modelo de Redes Neuronales\n",
    "Las redes neuronales artificiales son un modelo inspirado en el funcionamiento del cerebro humano. Está formado por un conjunto de nodos conocidos como neuronas artificiales que están conectadas y transmiten señales entre sí. Estas señales se transmiten desde la entrada hasta generar una salida.\n",
    "![Imagen](RN.png)"
   ]
  },
  {
   "cell_type": "code",
   "execution_count": 71,
   "id": "d5b70dcd",
   "metadata": {},
   "outputs": [],
   "source": [
    "from sklearn.neural_network import MLPClassifier"
   ]
  },
  {
   "cell_type": "code",
   "execution_count": 72,
   "id": "2c41f9ab",
   "metadata": {},
   "outputs": [
    {
     "data": {
      "text/plain": [
       "MLPClassifier(activation='logistic', hidden_layer_sizes=(2500,), max_iter=20000)"
      ]
     },
     "execution_count": 72,
     "metadata": {},
     "output_type": "execute_result"
    }
   ],
   "source": [
    "# Creamos la función “logmodel”\n",
    "RNmodel = MLPClassifier(activation='logistic', alpha=0.0001, batch_size='auto', beta_1=0.9,\n",
    "beta_2=0.999, early_stopping=False, epsilon=1e-08,\n",
    "hidden_layer_sizes=(2500,), learning_rate='constant',\n",
    "learning_rate_init=0.001, max_fun=15000, max_iter=20000,\n",
    "momentum=0.9, n_iter_no_change=10, nesterovs_momentum=True,\n",
    "power_t=0.5, random_state=None, shuffle=True, solver='adam',\n",
    "tol=0.0001, validation_fraction=0.1, verbose=False,\n",
    "warm_start=False)\n",
    "# Creamos el modelo de RN, ecuación que me va permitir predecir si se adjudica o no la joya\n",
    "RNmodel.fit(os_data_X,os_data_y)"
   ]
  },
  {
   "cell_type": "code",
   "execution_count": 73,
   "id": "c4492e7b",
   "metadata": {},
   "outputs": [
    {
     "name": "stderr",
     "output_type": "stream",
     "text": [
      "C:\\Users\\Mauro\\AppData\\Roaming\\Python\\Python38\\site-packages\\sklearn\\base.py:443: UserWarning: X has feature names, but MLPClassifier was fitted without feature names\n",
      "  warnings.warn(\n"
     ]
    }
   ],
   "source": [
    "# Predicciones sobre X_test\n",
    "predictionsRN = RNmodel.predict(X_test)"
   ]
  },
  {
   "cell_type": "code",
   "execution_count": 74,
   "id": "93756720",
   "metadata": {},
   "outputs": [],
   "source": [
    "# Predicciones sobre X_train (balanceado)\n",
    "predictions_trainRN = RNmodel.predict(os_data_X)"
   ]
  },
  {
   "cell_type": "markdown",
   "id": "bb2b03df",
   "metadata": {},
   "source": [
    "### Evaluación del modelo"
   ]
  },
  {
   "cell_type": "code",
   "execution_count": 75,
   "id": "b8730f5a",
   "metadata": {},
   "outputs": [
    {
     "name": "stdout",
     "output_type": "stream",
     "text": [
      "              precision    recall  f1-score   support\n",
      "\n",
      "         0.0       0.98      0.96      0.97      8857\n",
      "         1.0       0.92      0.96      0.94      3586\n",
      "\n",
      "    accuracy                           0.96     12443\n",
      "   macro avg       0.95      0.96      0.96     12443\n",
      "weighted avg       0.97      0.96      0.96     12443\n",
      "\n"
     ]
    }
   ],
   "source": [
    "# Reporte de clasificación del y_test con la predicción de los X_test\n",
    "print(classification_report(y_test,predictionsRN))"
   ]
  },
  {
   "cell_type": "code",
   "execution_count": 76,
   "id": "2312f3d1",
   "metadata": {},
   "outputs": [
    {
     "name": "stdout",
     "output_type": "stream",
     "text": [
      "              precision    recall  f1-score   support\n",
      "\n",
      "         0.0       0.96      0.97      0.96     20665\n",
      "         1.0       0.97      0.96      0.96     20665\n",
      "\n",
      "    accuracy                           0.96     41330\n",
      "   macro avg       0.96      0.96      0.96     41330\n",
      "weighted avg       0.96      0.96      0.96     41330\n",
      "\n"
     ]
    }
   ],
   "source": [
    "# Reporte de clasificación del y_train (balanceado) con la predicción de los X_train (balanceado)\n",
    "print(classification_report(os_data_y,predictions_trainRN))"
   ]
  },
  {
   "cell_type": "markdown",
   "id": "7963bde4",
   "metadata": {},
   "source": [
    "### Análisis de modelos"
   ]
  },
  {
   "cell_type": "code",
   "execution_count": 77,
   "id": "19570bc0",
   "metadata": {},
   "outputs": [
    {
     "name": "stdout",
     "output_type": "stream",
     "text": [
      "[[-2.73016287e-02 -1.24277246e-01  2.52884173e-01 -3.13513057e-03\n",
      "   2.77607389e-03  1.20359211e-03 -1.13603327e-03  1.88582664e-05\n",
      "  -9.14235132e-03 -1.34167104e-01  3.25281590e-03 -1.36433653e-01\n",
      "  -1.82087589e-01  3.05513049e-03  5.80379873e-04 -4.24996993e-01\n",
      "  -9.39010688e-02 -2.63925747e-01 -2.71752725e-01]]\n"
     ]
    },
    {
     "name": "stderr",
     "output_type": "stream",
     "text": [
      "C:\\Users\\Mauro\\AppData\\Roaming\\Python\\Python38\\site-packages\\sklearn\\linear_model\\_logistic.py:814: ConvergenceWarning: lbfgs failed to converge (status=1):\n",
      "STOP: TOTAL NO. of ITERATIONS REACHED LIMIT.\n",
      "\n",
      "Increase the number of iterations (max_iter) or scale the data as shown in:\n",
      "    https://scikit-learn.org/stable/modules/preprocessing.html\n",
      "Please also refer to the documentation for alternative solver options:\n",
      "    https://scikit-learn.org/stable/modules/linear_model.html#logistic-regression\n",
      "  n_iter_i = _check_optimize_result(\n"
     ]
    }
   ],
   "source": [
    "print(logmodel.fit(os_data_X,os_data_y).coef_)"
   ]
  },
  {
   "cell_type": "code",
   "execution_count": 78,
   "id": "7d012ab8",
   "metadata": {},
   "outputs": [],
   "source": [
    "from sklearn.metrics import roc_auc_score"
   ]
  },
  {
   "cell_type": "code",
   "execution_count": 79,
   "id": "e8d28e8b",
   "metadata": {},
   "outputs": [
    {
     "name": "stdout",
     "output_type": "stream",
     "text": [
      "0.9561091390684774\n"
     ]
    }
   ],
   "source": [
    "# Curva ROC para y_test y predictions en la RL\n",
    "print(roc_auc_score(y_test,predictions))"
   ]
  },
  {
   "cell_type": "code",
   "execution_count": 80,
   "id": "c7cc6601",
   "metadata": {},
   "outputs": [
    {
     "name": "stdout",
     "output_type": "stream",
     "text": [
      "0.9489958867650616\n"
     ]
    }
   ],
   "source": [
    "# Curva ROC para el y_train (balanceado) con la predicción de los X_train (balanceado) en la RL\n",
    "print(roc_auc_score(os_data_y,predictions_train))"
   ]
  },
  {
   "cell_type": "code",
   "execution_count": 81,
   "id": "1dc55c02",
   "metadata": {},
   "outputs": [
    {
     "name": "stdout",
     "output_type": "stream",
     "text": [
      "0.9636200638754163\n"
     ]
    }
   ],
   "source": [
    "# Curva ROC para y_test y predictions en la RN\n",
    "print(roc_auc_score(y_test,predictionsRN))"
   ]
  },
  {
   "cell_type": "code",
   "execution_count": 82,
   "id": "3ca4d49b",
   "metadata": {},
   "outputs": [
    {
     "name": "stdout",
     "output_type": "stream",
     "text": [
      "0.9628599080571014\n"
     ]
    }
   ],
   "source": [
    "# Curva ROC para el y_train (balanceado) con la predicción de los X_train (balanceado) en la RN\n",
    "print(roc_auc_score(os_data_y,predictions_trainRN))"
   ]
  },
  {
   "cell_type": "markdown",
   "id": "7a801c73",
   "metadata": {},
   "source": [
    "### 3.5 Modelo 5 para objetivo 1: Entender el comportamiento de los clientes con el fin de que la entidad pueda generar ofertas diferenciadas, mediante una solución analítica."
   ]
  },
  {
   "cell_type": "markdown",
   "id": "0e754cb8",
   "metadata": {},
   "source": [
    "### KOHONEN SOM\n",
    "En 1982 T. Kohonen presentó un modelo de red denominado mapas auto-organizados\n",
    "o SOM (Self-Organizing Maps), basado en ciertas evidencias descubiertas a nivel cerebral.\n",
    "Este tipo de red posee un aprendizaje no supervisado competitivo.\n",
    "No existe ningún maestro externo que indique si la red neuronal está operando correcta\n",
    "o incorrectamente porque no se dispone de ninguna salida objetivo hacia la cual la red\n",
    "neuronal deba tender.\n",
    "La red auto-organizada debe descubrir rasgos comunes, regularidades, correlaciones o\n",
    "categorías en los datos de entrada, e incorporarlos a su estructura interna de conexiones.\n",
    "Se dice, por tanto, que las neuronas deben auto-organizarse en función de los estímulos\n",
    "(datos) procedentes del exterior.\n",
    "![Imagen](https://www.ibiblio.org/pub/linux/docs/LuCaS/Presentaciones/200304curso-glisa/redes_neuronales/curso-glisa-redes_neuronales-html/som.jpg)"
   ]
  },
  {
   "cell_type": "markdown",
   "id": "763c5f3b",
   "metadata": {},
   "source": [
    "### Tratando la data\n"
   ]
  },
  {
   "cell_type": "code",
   "execution_count": 83,
   "id": "5b2c1520",
   "metadata": {},
   "outputs": [],
   "source": [
    "#Eliminando variables de no interés para el modelo\n",
    "#Eliminar los casos con FlagAdj igual a 1\n",
    "data_MLNS =  data_last[data_last.FlagAdj != 1]\n",
    "del data_MLNS['CodCli'],data_MLNS['FechAnalisis'],data_MLNS['t_Periodo'],data_MLNS['FlagAdj']"
   ]
  },
  {
   "cell_type": "code",
   "execution_count": 84,
   "id": "85f4ef78",
   "metadata": {},
   "outputs": [
    {
     "name": "stdout",
     "output_type": "stream",
     "text": [
      "<class 'pandas.core.frame.DataFrame'>\n",
      "Int64Index: 29522 entries, 6 to 961980\n",
      "Data columns (total 19 columns):\n",
      " #   Column          Non-Null Count  Dtype  \n",
      "---  ------          --------------  -----  \n",
      " 0   Edad            29522 non-null  float64\n",
      " 1   Sexo            29522 non-null  float64\n",
      " 2   CantCred        29522 non-null  float64\n",
      " 3   Desem           29522 non-null  float64\n",
      " 4   SalVigSol       29522 non-null  float64\n",
      " 5   Monto_Tasación  29522 non-null  float64\n",
      " 6   DiasEfec        29522 non-null  float64\n",
      " 7   MaxDeuda        29522 non-null  float64\n",
      " 8   MaxDiasAtra     29522 non-null  float64\n",
      " 9   MaxGramOro      29522 non-null  float64\n",
      " 10  AntiDias        29522 non-null  float64\n",
      " 11  EstaCiv_cas     29522 non-null  float64\n",
      " 12  EstaCiv_con     29522 non-null  float64\n",
      " 13  EstaCiv_div     29522 non-null  float64\n",
      " 14  EstaCiv_sep     29522 non-null  float64\n",
      " 15  EstaCiv_sol     29522 non-null  float64\n",
      " 16  TipoViv_alq     29522 non-null  float64\n",
      " 17  TipoViv_def     29522 non-null  float64\n",
      " 18  TipoViv_pro     29522 non-null  float64\n",
      "dtypes: float64(19)\n",
      "memory usage: 4.5 MB\n"
     ]
    }
   ],
   "source": [
    "data_MLNS.info()\n",
    "#Eliminar los casos con FlagAdj igual a 1\n",
    "#data_MLNS = data_last[data_last.FlagAdj != 1]"
   ]
  },
  {
   "cell_type": "markdown",
   "id": "f2c17571",
   "metadata": {},
   "source": [
    "### Pendiente\n",
    "Correr el mejor modelo de Machine learning supervisado en el DF de data de ultimo mesy tomar un umbral de probabilidad de que se adjudique el bien, sobre eso generarlos modelos no supervisados.\n",
    "\n",
    "Por ahora trabajamos con data_MLNS"
   ]
  },
  {
   "cell_type": "code",
   "execution_count": 85,
   "id": "339e656a",
   "metadata": {},
   "outputs": [],
   "source": [
    "#pip install minisom"
   ]
  },
  {
   "cell_type": "code",
   "execution_count": 86,
   "id": "71c3316c",
   "metadata": {},
   "outputs": [],
   "source": [
    "# importing minisom\n",
    "from minisom import MiniSom"
   ]
  },
  {
   "cell_type": "code",
   "execution_count": 87,
   "id": "ea4822e7",
   "metadata": {},
   "outputs": [],
   "source": [
    "lr = 0.5\n",
    "epocas= 100000\n",
    "x_dim = 5\n",
    "y_dim = 5\n",
    "INPUT_DIM = data_MLNS.shape[1] ## número de las variables 25\n",
    "df_array = data_MLNS.to_numpy()  ## mumpy array\n",
    "\n",
    "red_neuronal_som = MiniSom(x = x_dim, y = y_dim, input_len = INPUT_DIM, learning_rate = lr) # initialization of 5X5 SOM\n",
    "red_neuronal_som.random_weights_init(df_array) # initialize the weights in a data driven fashion\n",
    "red_neuronal_som.train_batch(df_array, epocas, verbose=False) #Verbose False para que no salga cargando el como va avanzando la corrida"
   ]
  },
  {
   "cell_type": "code",
   "execution_count": 88,
   "id": "dc6fb3d6",
   "metadata": {},
   "outputs": [
    {
     "data": {
      "image/png": "[encoded data removed]",
      "text/plain": [
       "<Figure size 1080x792 with 1 Axes>"
      ]
     },
     "metadata": {},
     "output_type": "display_data"
    }
   ],
   "source": [
    "plt.figure(figsize=(15, 11))\n",
    "plt.pcolor(red_neuronal_som.distance_map().T, cmap='ocean', alpha=.9)\n",
    "plt.xticks(np.arange(x_dim + 1))\n",
    "plt.yticks(np.arange(y_dim + 1))\n",
    "plt.grid()\n",
    "plt.show()"
   ]
  },
  {
   "cell_type": "code",
   "execution_count": 89,
   "id": "67de25e2",
   "metadata": {},
   "outputs": [
    {
     "data": {
      "image/png": "[encoded data removed]",
      "text/plain": [
       "<Figure size 1440x1080 with 19 Axes>"
      ]
     },
     "metadata": {},
     "output_type": "display_data"
    }
   ],
   "source": [
    "W = red_neuronal_som.get_weights()\n",
    "plt.figure(figsize=(20, 15))\n",
    "for i, f in enumerate(data_MLNS):\n",
    "    plt.subplot(4, 5, i+1)\n",
    "    plt.title(f)\n",
    "    plt.pcolor(W[:,:,i].T, cmap='ocean')\n",
    "    plt.xticks(np.arange(x_dim+1))\n",
    "    plt.yticks(np.arange(y_dim+1))\n",
    "plt.tight_layout()\n",
    "plt.show()"
   ]
  },
  {
   "cell_type": "code",
   "execution_count": 90,
   "id": "8c85634f",
   "metadata": {},
   "outputs": [
    {
     "data": {
      "image/png": "[encoded data removed]",
      "text/plain": [
       "<Figure size 576x576 with 1 Axes>"
      ]
     },
     "metadata": {},
     "output_type": "display_data"
    }
   ],
   "source": [
    "from matplotlib.patches import Patch\n",
    "\n",
    "W = red_neuronal_som.get_weights()\n",
    "\n",
    "Z = np.zeros((x_dim, y_dim))\n",
    "\n",
    "plt.figure(figsize=(8, 8))\n",
    "for i in np.arange(red_neuronal_som._weights.shape[0]):\n",
    "    for j in np.arange(red_neuronal_som._weights.shape[1]):\n",
    "        feature = np.argmax(W[i, j , :])\n",
    "        plt.plot([j+.5], [i+.5], 'o', color='C'+str(feature), marker='s', markersize=24)\n",
    "\n",
    "legend_elements = [Patch(facecolor='C'+str(i), edgecolor='w', label=f) for i, f in enumerate(data_MLNS)]\n",
    "\n",
    "plt.legend(handles=legend_elements, loc='center left', bbox_to_anchor=(1, .95))\n",
    "        \n",
    "plt.xlim([0, x_dim])\n",
    "plt.ylim([0, y_dim])\n",
    "plt.show()"
   ]
  },
  {
   "cell_type": "code",
   "execution_count": 91,
   "id": "d59dd2ab",
   "metadata": {},
   "outputs": [],
   "source": [
    "# each neuron represents a cluster\n",
    "winner_coordinates = np.array([red_neuronal_som.winner(x) for x in df_array]).T\n",
    "# with np.ravel_multi_index we convert the bidimensional coordinates to a monodimensional index\n",
    "cluster_index = np.ravel_multi_index(winner_coordinates, (x_dim,y_dim))"
   ]
  },
  {
   "cell_type": "code",
   "execution_count": 92,
   "id": "e7c137ce",
   "metadata": {},
   "outputs": [
    {
     "data": {
      "image/png": "[encoded data removed]",
      "text/plain": [
       "<Figure size 432x288 with 1 Axes>"
      ]
     },
     "metadata": {
      "needs_background": "light"
     },
     "output_type": "display_data"
    }
   ],
   "source": [
    "import matplotlib.pyplot as plt\n",
    "%matplotlib inline\n",
    "\n",
    "# plotting the clusters using the first 2 dimentions of the data\n",
    "for c in np.unique(cluster_index):\n",
    "    plt.scatter(df_array[cluster_index == c, 0],\n",
    "                df_array[cluster_index == c, 1], label='cluster='+str(c), alpha=.7)\n",
    "\n",
    "# plotting centroids\n",
    "for centroid in red_neuronal_som.get_weights():\n",
    "    plt.scatter(centroid[:, 0], centroid[:, 1], marker='x', \n",
    "                s=80, linewidths=35, color='k', label='centroid')"
   ]
  },
  {
   "cell_type": "code",
   "execution_count": 93,
   "id": "7c68ad35",
   "metadata": {},
   "outputs": [
    {
     "data": {
      "text/plain": [
       "array([3, 4, 4, ..., 4, 7, 2], dtype=int64)"
      ]
     },
     "metadata": {},
     "output_type": "display_data"
    }
   ],
   "source": [
    "display(cluster_index)"
   ]
  },
  {
   "cell_type": "code",
   "execution_count": 94,
   "id": "510696e9",
   "metadata": {},
   "outputs": [
    {
     "name": "stderr",
     "output_type": "stream",
     "text": [
      "<ipython-input-94-923540aadfbe>:1: SettingWithCopyWarning: \n",
      "A value is trying to be set on a copy of a slice from a DataFrame.\n",
      "Try using .loc[row_indexer,col_indexer] = value instead\n",
      "\n",
      "See the caveats in the documentation: https://pandas.pydata.org/pandas-docs/stable/user_guide/indexing.html#returning-a-view-versus-a-copy\n",
      "  data_MLNS['Cuadrante'] = cluster_index\n"
     ]
    }
   ],
   "source": [
    "data_MLNS['Cuadrante'] = cluster_index"
   ]
  },
  {
   "cell_type": "code",
   "execution_count": 95,
   "id": "f79db1b1",
   "metadata": {},
   "outputs": [
    {
     "data": {
      "image/png": "[encoded data removed]",
      "text/plain": [
       "<Figure size 1080x792 with 1 Axes>"
      ]
     },
     "metadata": {
      "needs_background": "light"
     },
     "output_type": "display_data"
    }
   ],
   "source": [
    "plt.figure(figsize=(15, 11))\n",
    "plt.pcolor(red_neuronal_som.distance_map().T, cmap='ocean', alpha=.9)\n",
    "plt.xticks(np.arange(x_dim + 1))\n",
    "plt.yticks(np.arange(y_dim + 1))\n",
    "plt.grid()\n",
    "plt.show()"
   ]
  },
  {
   "cell_type": "code",
   "execution_count": 96,
   "id": "d09a16ac",
   "metadata": {},
   "outputs": [],
   "source": [
    "def Cluster(x):\n",
    "  if x in [0,1,2,3,4,5,9,14,19,23,24]:\n",
    "    return 1\n",
    "  if x in [6,7,8,11,12,13,17,18]:\n",
    "    return 2\n",
    "  if x in [10,22]:\n",
    "    return 3\n",
    "  if x in [15,16,20,21]:\n",
    "    return 4"
   ]
  },
  {
   "cell_type": "code",
   "execution_count": 97,
   "id": "1617282b",
   "metadata": {},
   "outputs": [
    {
     "name": "stderr",
     "output_type": "stream",
     "text": [
      "<ipython-input-97-bf01f413a1b9>:1: SettingWithCopyWarning: \n",
      "A value is trying to be set on a copy of a slice from a DataFrame.\n",
      "Try using .loc[row_indexer,col_indexer] = value instead\n",
      "\n",
      "See the caveats in the documentation: https://pandas.pydata.org/pandas-docs/stable/user_guide/indexing.html#returning-a-view-versus-a-copy\n",
      "  data_MLNS['Cluster0']= data_MLNS['Cuadrante'].apply(lambda x: Cluster(x))\n"
     ]
    }
   ],
   "source": [
    "data_MLNS['Cluster0']= data_MLNS['Cuadrante'].apply(lambda x: Cluster(x))"
   ]
  },
  {
   "cell_type": "code",
   "execution_count": 98,
   "id": "8e9f47b5",
   "metadata": {},
   "outputs": [
    {
     "data": {
      "text/html": [
       "<div>\n",
       "<style scoped>\n",
       "    .dataframe tbody tr th:only-of-type {\n",
       "        vertical-align: middle;\n",
       "    }\n",
       "\n",
       "    .dataframe tbody tr th {\n",
       "        vertical-align: top;\n",
       "    }\n",
       "\n",
       "    .dataframe thead th {\n",
       "        text-align: right;\n",
       "    }\n",
       "</style>\n",
       "<table border=\"1\" class=\"dataframe\">\n",
       "  <thead>\n",
       "    <tr style=\"text-align: right;\">\n",
       "      <th></th>\n",
       "      <th></th>\n",
       "      <th>0</th>\n",
       "      <th>1</th>\n",
       "      <th>2</th>\n",
       "      <th>3</th>\n",
       "    </tr>\n",
       "  </thead>\n",
       "  <tbody>\n",
       "    <tr>\n",
       "      <th rowspan=\"2\" valign=\"top\">Cluster0</th>\n",
       "      <th></th>\n",
       "      <td>1.000000</td>\n",
       "      <td>2.000000</td>\n",
       "      <td>3.000000</td>\n",
       "      <td>4.000000</td>\n",
       "    </tr>\n",
       "    <tr>\n",
       "      <th>count</th>\n",
       "      <td>20776.000000</td>\n",
       "      <td>7885.000000</td>\n",
       "      <td>237.000000</td>\n",
       "      <td>624.000000</td>\n",
       "    </tr>\n",
       "    <tr>\n",
       "      <th rowspan=\"2\" valign=\"top\">Edad</th>\n",
       "      <th>mean</th>\n",
       "      <td>44.952253</td>\n",
       "      <td>48.804312</td>\n",
       "      <td>48.329114</td>\n",
       "      <td>46.953526</td>\n",
       "    </tr>\n",
       "    <tr>\n",
       "      <th>median</th>\n",
       "      <td>43.000000</td>\n",
       "      <td>48.000000</td>\n",
       "      <td>48.000000</td>\n",
       "      <td>46.000000</td>\n",
       "    </tr>\n",
       "    <tr>\n",
       "      <th rowspan=\"2\" valign=\"top\">Sexo</th>\n",
       "      <th>mean</th>\n",
       "      <td>0.349779</td>\n",
       "      <td>0.306024</td>\n",
       "      <td>0.295359</td>\n",
       "      <td>0.389423</td>\n",
       "    </tr>\n",
       "    <tr>\n",
       "      <th>median</th>\n",
       "      <td>0.000000</td>\n",
       "      <td>0.000000</td>\n",
       "      <td>0.000000</td>\n",
       "      <td>0.000000</td>\n",
       "    </tr>\n",
       "    <tr>\n",
       "      <th rowspan=\"2\" valign=\"top\">CantCred</th>\n",
       "      <th>mean</th>\n",
       "      <td>1.090345</td>\n",
       "      <td>1.258465</td>\n",
       "      <td>1.286920</td>\n",
       "      <td>2.006410</td>\n",
       "    </tr>\n",
       "    <tr>\n",
       "      <th>median</th>\n",
       "      <td>1.000000</td>\n",
       "      <td>1.000000</td>\n",
       "      <td>1.000000</td>\n",
       "      <td>1.000000</td>\n",
       "    </tr>\n",
       "    <tr>\n",
       "      <th rowspan=\"2\" valign=\"top\">Desem</th>\n",
       "      <th>mean</th>\n",
       "      <td>726.585677</td>\n",
       "      <td>1451.273168</td>\n",
       "      <td>4682.209367</td>\n",
       "      <td>8968.951154</td>\n",
       "    </tr>\n",
       "    <tr>\n",
       "      <th>median</th>\n",
       "      <td>500.000000</td>\n",
       "      <td>1439.900000</td>\n",
       "      <td>4970.250000</td>\n",
       "      <td>7190.500000</td>\n",
       "    </tr>\n",
       "    <tr>\n",
       "      <th rowspan=\"2\" valign=\"top\">SalVigSol</th>\n",
       "      <th>mean</th>\n",
       "      <td>564.069355</td>\n",
       "      <td>1040.790459</td>\n",
       "      <td>1881.866624</td>\n",
       "      <td>8011.117468</td>\n",
       "    </tr>\n",
       "    <tr>\n",
       "      <th>median</th>\n",
       "      <td>341.675000</td>\n",
       "      <td>1041.680000</td>\n",
       "      <td>1579.050000</td>\n",
       "      <td>6379.425000</td>\n",
       "    </tr>\n",
       "    <tr>\n",
       "      <th rowspan=\"2\" valign=\"top\">Monto_Tasación</th>\n",
       "      <th>mean</th>\n",
       "      <td>889.603160</td>\n",
       "      <td>1782.342992</td>\n",
       "      <td>5920.635726</td>\n",
       "      <td>10908.814045</td>\n",
       "    </tr>\n",
       "    <tr>\n",
       "      <th>median</th>\n",
       "      <td>601.730000</td>\n",
       "      <td>1754.500000</td>\n",
       "      <td>6095.800000</td>\n",
       "      <td>8881.575000</td>\n",
       "    </tr>\n",
       "    <tr>\n",
       "      <th rowspan=\"2\" valign=\"top\">DiasEfec</th>\n",
       "      <th>mean</th>\n",
       "      <td>462.166177</td>\n",
       "      <td>1212.840957</td>\n",
       "      <td>1180.493671</td>\n",
       "      <td>780.600273</td>\n",
       "    </tr>\n",
       "    <tr>\n",
       "      <th>median</th>\n",
       "      <td>293.000000</td>\n",
       "      <td>971.000000</td>\n",
       "      <td>879.000000</td>\n",
       "      <td>444.000000</td>\n",
       "    </tr>\n",
       "    <tr>\n",
       "      <th rowspan=\"2\" valign=\"top\">MaxDeuda</th>\n",
       "      <th>mean</th>\n",
       "      <td>1086.152307</td>\n",
       "      <td>1611.717651</td>\n",
       "      <td>9961.209325</td>\n",
       "      <td>8015.465721</td>\n",
       "    </tr>\n",
       "    <tr>\n",
       "      <th>median</th>\n",
       "      <td>612.000000</td>\n",
       "      <td>1500.100000</td>\n",
       "      <td>7344.000000</td>\n",
       "      <td>7060.080000</td>\n",
       "    </tr>\n",
       "    <tr>\n",
       "      <th rowspan=\"2\" valign=\"top\">MaxDiasAtra</th>\n",
       "      <th>mean</th>\n",
       "      <td>16.474153</td>\n",
       "      <td>19.534306</td>\n",
       "      <td>20.869198</td>\n",
       "      <td>31.208333</td>\n",
       "    </tr>\n",
       "    <tr>\n",
       "      <th>median</th>\n",
       "      <td>16.000000</td>\n",
       "      <td>18.000000</td>\n",
       "      <td>19.000000</td>\n",
       "      <td>21.000000</td>\n",
       "    </tr>\n",
       "    <tr>\n",
       "      <th rowspan=\"2\" valign=\"top\">MaxGramOro</th>\n",
       "      <th>mean</th>\n",
       "      <td>6.571279</td>\n",
       "      <td>12.267917</td>\n",
       "      <td>37.372883</td>\n",
       "      <td>69.519886</td>\n",
       "    </tr>\n",
       "    <tr>\n",
       "      <th>median</th>\n",
       "      <td>4.515000</td>\n",
       "      <td>11.625000</td>\n",
       "      <td>36.757500</td>\n",
       "      <td>55.254150</td>\n",
       "    </tr>\n",
       "    <tr>\n",
       "      <th rowspan=\"2\" valign=\"top\">AntiDias</th>\n",
       "      <th>mean</th>\n",
       "      <td>289.363978</td>\n",
       "      <td>360.867724</td>\n",
       "      <td>361.978903</td>\n",
       "      <td>215.427885</td>\n",
       "    </tr>\n",
       "    <tr>\n",
       "      <th>median</th>\n",
       "      <td>151.000000</td>\n",
       "      <td>225.000000</td>\n",
       "      <td>270.000000</td>\n",
       "      <td>121.500000</td>\n",
       "    </tr>\n",
       "    <tr>\n",
       "      <th rowspan=\"2\" valign=\"top\">EstaCiv_cas</th>\n",
       "      <th>mean</th>\n",
       "      <td>0.232672</td>\n",
       "      <td>0.305390</td>\n",
       "      <td>0.274262</td>\n",
       "      <td>0.258013</td>\n",
       "    </tr>\n",
       "    <tr>\n",
       "      <th>median</th>\n",
       "      <td>0.000000</td>\n",
       "      <td>0.000000</td>\n",
       "      <td>0.000000</td>\n",
       "      <td>0.000000</td>\n",
       "    </tr>\n",
       "    <tr>\n",
       "      <th rowspan=\"2\" valign=\"top\">EstaCiv_con</th>\n",
       "      <th>mean</th>\n",
       "      <td>0.047122</td>\n",
       "      <td>0.041344</td>\n",
       "      <td>0.050633</td>\n",
       "      <td>0.043269</td>\n",
       "    </tr>\n",
       "    <tr>\n",
       "      <th>median</th>\n",
       "      <td>0.000000</td>\n",
       "      <td>0.000000</td>\n",
       "      <td>0.000000</td>\n",
       "      <td>0.000000</td>\n",
       "    </tr>\n",
       "    <tr>\n",
       "      <th rowspan=\"2\" valign=\"top\">EstaCiv_div</th>\n",
       "      <th>mean</th>\n",
       "      <td>0.011696</td>\n",
       "      <td>0.017755</td>\n",
       "      <td>0.016878</td>\n",
       "      <td>0.016026</td>\n",
       "    </tr>\n",
       "    <tr>\n",
       "      <th>median</th>\n",
       "      <td>0.000000</td>\n",
       "      <td>0.000000</td>\n",
       "      <td>0.000000</td>\n",
       "      <td>0.000000</td>\n",
       "    </tr>\n",
       "    <tr>\n",
       "      <th rowspan=\"2\" valign=\"top\">EstaCiv_sep</th>\n",
       "      <th>mean</th>\n",
       "      <td>0.001877</td>\n",
       "      <td>0.001649</td>\n",
       "      <td>0.000000</td>\n",
       "      <td>0.003205</td>\n",
       "    </tr>\n",
       "    <tr>\n",
       "      <th>median</th>\n",
       "      <td>0.000000</td>\n",
       "      <td>0.000000</td>\n",
       "      <td>0.000000</td>\n",
       "      <td>0.000000</td>\n",
       "    </tr>\n",
       "    <tr>\n",
       "      <th rowspan=\"2\" valign=\"top\">EstaCiv_sol</th>\n",
       "      <th>mean</th>\n",
       "      <td>0.692337</td>\n",
       "      <td>0.611414</td>\n",
       "      <td>0.637131</td>\n",
       "      <td>0.660256</td>\n",
       "    </tr>\n",
       "    <tr>\n",
       "      <th>median</th>\n",
       "      <td>1.000000</td>\n",
       "      <td>1.000000</td>\n",
       "      <td>1.000000</td>\n",
       "      <td>1.000000</td>\n",
       "    </tr>\n",
       "    <tr>\n",
       "      <th rowspan=\"2\" valign=\"top\">TipoViv_alq</th>\n",
       "      <th>mean</th>\n",
       "      <td>0.058385</td>\n",
       "      <td>0.048954</td>\n",
       "      <td>0.050633</td>\n",
       "      <td>0.046474</td>\n",
       "    </tr>\n",
       "    <tr>\n",
       "      <th>median</th>\n",
       "      <td>0.000000</td>\n",
       "      <td>0.000000</td>\n",
       "      <td>0.000000</td>\n",
       "      <td>0.000000</td>\n",
       "    </tr>\n",
       "    <tr>\n",
       "      <th rowspan=\"2\" valign=\"top\">TipoViv_def</th>\n",
       "      <th>mean</th>\n",
       "      <td>0.548518</td>\n",
       "      <td>0.493469</td>\n",
       "      <td>0.451477</td>\n",
       "      <td>0.437500</td>\n",
       "    </tr>\n",
       "    <tr>\n",
       "      <th>median</th>\n",
       "      <td>1.000000</td>\n",
       "      <td>0.000000</td>\n",
       "      <td>0.000000</td>\n",
       "      <td>0.000000</td>\n",
       "    </tr>\n",
       "    <tr>\n",
       "      <th rowspan=\"2\" valign=\"top\">TipoViv_pro</th>\n",
       "      <th>mean</th>\n",
       "      <td>0.391654</td>\n",
       "      <td>0.455549</td>\n",
       "      <td>0.497890</td>\n",
       "      <td>0.516026</td>\n",
       "    </tr>\n",
       "    <tr>\n",
       "      <th>median</th>\n",
       "      <td>0.000000</td>\n",
       "      <td>0.000000</td>\n",
       "      <td>0.000000</td>\n",
       "      <td>1.000000</td>\n",
       "    </tr>\n",
       "  </tbody>\n",
       "</table>\n",
       "</div>"
      ],
      "text/plain": [
       "                                  0            1            2             3\n",
       "Cluster0                   1.000000     2.000000     3.000000      4.000000\n",
       "               count   20776.000000  7885.000000   237.000000    624.000000\n",
       "Edad           mean       44.952253    48.804312    48.329114     46.953526\n",
       "               median     43.000000    48.000000    48.000000     46.000000\n",
       "Sexo           mean        0.349779     0.306024     0.295359      0.389423\n",
       "               median      0.000000     0.000000     0.000000      0.000000\n",
       "CantCred       mean        1.090345     1.258465     1.286920      2.006410\n",
       "               median      1.000000     1.000000     1.000000      1.000000\n",
       "Desem          mean      726.585677  1451.273168  4682.209367   8968.951154\n",
       "               median    500.000000  1439.900000  4970.250000   7190.500000\n",
       "SalVigSol      mean      564.069355  1040.790459  1881.866624   8011.117468\n",
       "               median    341.675000  1041.680000  1579.050000   6379.425000\n",
       "Monto_Tasación mean      889.603160  1782.342992  5920.635726  10908.814045\n",
       "               median    601.730000  1754.500000  6095.800000   8881.575000\n",
       "DiasEfec       mean      462.166177  1212.840957  1180.493671    780.600273\n",
       "               median    293.000000   971.000000   879.000000    444.000000\n",
       "MaxDeuda       mean     1086.152307  1611.717651  9961.209325   8015.465721\n",
       "               median    612.000000  1500.100000  7344.000000   7060.080000\n",
       "MaxDiasAtra    mean       16.474153    19.534306    20.869198     31.208333\n",
       "               median     16.000000    18.000000    19.000000     21.000000\n",
       "MaxGramOro     mean        6.571279    12.267917    37.372883     69.519886\n",
       "               median      4.515000    11.625000    36.757500     55.254150\n",
       "AntiDias       mean      289.363978   360.867724   361.978903    215.427885\n",
       "               median    151.000000   225.000000   270.000000    121.500000\n",
       "EstaCiv_cas    mean        0.232672     0.305390     0.274262      0.258013\n",
       "               median      0.000000     0.000000     0.000000      0.000000\n",
       "EstaCiv_con    mean        0.047122     0.041344     0.050633      0.043269\n",
       "               median      0.000000     0.000000     0.000000      0.000000\n",
       "EstaCiv_div    mean        0.011696     0.017755     0.016878      0.016026\n",
       "               median      0.000000     0.000000     0.000000      0.000000\n",
       "EstaCiv_sep    mean        0.001877     0.001649     0.000000      0.003205\n",
       "               median      0.000000     0.000000     0.000000      0.000000\n",
       "EstaCiv_sol    mean        0.692337     0.611414     0.637131      0.660256\n",
       "               median      1.000000     1.000000     1.000000      1.000000\n",
       "TipoViv_alq    mean        0.058385     0.048954     0.050633      0.046474\n",
       "               median      0.000000     0.000000     0.000000      0.000000\n",
       "TipoViv_def    mean        0.548518     0.493469     0.451477      0.437500\n",
       "               median      1.000000     0.000000     0.000000      0.000000\n",
       "TipoViv_pro    mean        0.391654     0.455549     0.497890      0.516026\n",
       "               median      0.000000     0.000000     0.000000      1.000000"
      ]
     },
     "execution_count": 98,
     "metadata": {},
     "output_type": "execute_result"
    }
   ],
   "source": [
    "data_MLNS.groupby('Cluster0').agg({\n",
    "        'Cluster0':'count',\n",
    "        'Edad':['mean','median'],\n",
    "        'Sexo':['mean','median'],\n",
    "        'CantCred':['mean','median'],\n",
    "        'Desem':['mean','median'],\n",
    "        'SalVigSol':['mean','median'],\n",
    "        'Monto_Tasación':['mean','median'],\n",
    "        'DiasEfec':['mean','median'],\n",
    "        'MaxDeuda':['mean','median'],\n",
    "        'MaxDiasAtra':['mean','median'],\n",
    "        'MaxGramOro':['mean','median'],\n",
    "        'AntiDias':['mean','median'],\n",
    "        'EstaCiv_cas':['mean','median'],\n",
    "        'EstaCiv_con':['mean','median'],\n",
    "        'EstaCiv_div':['mean','median'],\n",
    "        'EstaCiv_sep':['mean','median'],\n",
    "        'EstaCiv_sol':['mean','median'],\n",
    "        'TipoViv_alq':['mean','median'],\n",
    "        'TipoViv_def':['mean','median'],\n",
    "        'TipoViv_pro':['mean','median'],\n",
    "        #'Actividad Laboral': lambda x: x.value_counts().index[0],\n",
    "        #'Estado Civil': lambda x: x.value_counts().index[0],\n",
    "        #'Nivel Educacional': lambda x: x.value_counts().index[0],\n",
    "        #'Tiene Mora': lambda x: x.value_counts().index[0],\n",
    "        #'Saldo Medio Anual':['mean','median'],\n",
    "        #'Tiene Crédito Hipotecario': lambda x: x.value_counts().index[0],\n",
    "        #'Tiene Crédito de Consumo': lambda x: x.value_counts().index[0],\n",
    "        #'Medio de Contacto Preferente': lambda x: x.value_counts().index[0],\n",
    "        #'Contactos con su Ejecutivo':['mean','median'],\n",
    "        #'Tiene Inversiones': lambda x: x.value_counts().index[0]\n",
    "    }\n",
    ").reset_index().T"
   ]
  }
 ],
 "metadata": {
  "kernelspec": {
   "display_name": "Python 3",
   "language": "python",
   "name": "python3"
  },
  "language_info": {
   "codemirror_mode": {
    "name": "ipython",
    "version": 3
   },
   "file_extension": ".py",
   "mimetype": "text/x-python",
   "name": "python",
   "nbconvert_exporter": "python",
   "pygments_lexer": "ipython3",
   "version": "3.8.8"
  }
 },
 "nbformat": 4,
 "nbformat_minor": 5
}
